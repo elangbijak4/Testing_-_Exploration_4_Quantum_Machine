{
  "nbformat": 4,
  "nbformat_minor": 0,
  "metadata": {
    "colab": {
      "provenance": [],
      "authorship_tag": "ABX9TyPKjBv87WRzQzp+C3O0NWjy",
      "include_colab_link": true
    },
    "kernelspec": {
      "name": "python3",
      "display_name": "Python 3"
    },
    "language_info": {
      "name": "python"
    }
  },
  "cells": [
    {
      "cell_type": "markdown",
      "metadata": {
        "id": "view-in-github",
        "colab_type": "text"
      },
      "source": [
        "<a href=\"https://colab.research.google.com/github/elangbijak4/Testing_-_Exploration_4_Quantum_Machine/blob/main/Rev2_Oracle_dengan_Register.ipynb\" target=\"_parent\"><img src=\"https://colab.research.google.com/assets/colab-badge.svg\" alt=\"Open In Colab\"/></a>"
      ]
    },
    {
      "cell_type": "code",
      "source": [
        "!pip install  cirq"
      ],
      "metadata": {
        "id": "vpgVwLnewI-C"
      },
      "execution_count": null,
      "outputs": []
    },
    {
      "cell_type": "code",
      "source": [
        "!pip install cirq --upgrade  # Upgrade Cirq to the latest version"
      ],
      "metadata": {
        "id": "fDHFxLSpy7vm"
      },
      "execution_count": null,
      "outputs": []
    },
    {
      "cell_type": "code",
      "source": [
        "import cirq\n",
        "import matplotlib.pyplot as plt"
      ],
      "metadata": {
        "id": "aQBVnNEizAG6"
      },
      "execution_count": 4,
      "outputs": []
    },
    {
      "cell_type": "code",
      "source": [
        "from cirq.contrib.svg import SVGCircuit  # Import the necessary module for drawing"
      ],
      "metadata": {
        "id": "JS3iPsse2i9V"
      },
      "execution_count": 11,
      "outputs": []
    },
    {
      "source": [
        "def oracle_register_advanced(qubits, target_value):\n",
        "    \"\"\"\n",
        "    Oracle yang memeriksa apakah nilai qubit pertama sama dengan target_value.\n",
        "    Jika sama, oracle membalik qubit kedua.\n",
        "    \"\"\"\n",
        "    # Use a proper control qubit instead of a boolean expression\n",
        "    yield cirq.CNOT(qubits[0], qubits[1]).controlled_by(qubits[2])  # Control using the third qubit\n",
        "    # Set the third qubit to the target value for the control to be effective\n",
        "    if target_value == 1:\n",
        "        yield cirq.X(qubits[2])\n",
        "\n",
        "# Uji coba\n",
        "qubits = cirq.LineQubit.range(3)\n",
        "target_value = 1\n",
        "circuit_register_advanced = cirq.Circuit(oracle_register_advanced(qubits, target_value))\n",
        "print(circuit_register_advanced)"
      ],
      "cell_type": "code",
      "metadata": {
        "colab": {
          "base_uri": "https://localhost:8080/"
        },
        "id": "23Wvj0WU2oum",
        "outputId": "76e889d1-a51f-492d-bd30-4527757ec204"
      },
      "execution_count": 28,
      "outputs": [
        {
          "output_type": "stream",
          "name": "stdout",
          "text": [
            "0: ───@───────\n",
            "      │\n",
            "1: ───X───────\n",
            "      │\n",
            "2: ───@───X───\n"
          ]
        }
      ]
    },
    {
      "cell_type": "code",
      "source": [
        "from IPython.display import SVG, display  # Import display from IPython"
      ],
      "metadata": {
        "id": "XcQPH9uV3ZKx"
      },
      "execution_count": 16,
      "outputs": []
    },
    {
      "cell_type": "markdown",
      "source": [
        "Kode untuk menggambar sirkuit ke dalam SVG"
      ],
      "metadata": {
        "id": "tsxDT9Fn6iTQ"
      }
    },
    {
      "source": [
        "# Use SVGCircuit to draw the circuit\n",
        "svg_circuit = cirq.contrib.svg.SVGCircuit(circuit_register_advanced)\n",
        "\n",
        "# Get the SVG content as a string (using _repr_svg_)\n",
        "svg_string = svg_circuit._repr_svg_()\n",
        "\n",
        "# Display the SVG in the notebook\n",
        "display(SVG(svg_string))"
      ],
      "cell_type": "code",
      "metadata": {
        "colab": {
          "base_uri": "https://localhost:8080/",
          "height": 171
        },
        "id": "6Y5nwIRL6YZn",
        "outputId": "c8678c9f-2228-4482-91b8-e53fae401402"
      },
      "execution_count": 29,
      "outputs": [
        {
          "output_type": "display_data",
          "data": {
            "text/plain": [
              "<IPython.core.display.SVG object>"
            ],
            "image/svg+xml": "<svg xmlns=\"http://www.w3.org/2000/svg\" width=\"220.0\" height=\"150.0\"><line x1=\"30.0\" x2=\"190.0\" y1=\"25.0\" y2=\"25.0\" stroke=\"#1967d2\" stroke-width=\"1\"/><line x1=\"30.0\" x2=\"190.0\" y1=\"75.0\" y2=\"75.0\" stroke=\"#1967d2\" stroke-width=\"1\"/><line x1=\"30.0\" x2=\"190.0\" y1=\"125.0\" y2=\"125.0\" stroke=\"#1967d2\" stroke-width=\"1\"/><line x1=\"90.0\" x2=\"90.0\" y1=\"25.0\" y2=\"125.0\" stroke=\"black\" stroke-width=\"3\"/><rect x=\"10.0\" y=\"5.0\" width=\"40\" height=\"40\" stroke=\"black\" fill=\"white\" stroke-width=\"0\"/><text x=\"30.0\" y=\"25.0\" dominant-baseline=\"middle\" text-anchor=\"middle\" font-size=\"14px\" font-family=\"sans\\-serif:style=normal:variant=normal:weight=normal:stretch=normal:size=10.0\">0: </text><rect x=\"10.0\" y=\"55.0\" width=\"40\" height=\"40\" stroke=\"black\" fill=\"white\" stroke-width=\"0\"/><text x=\"30.0\" y=\"75.0\" dominant-baseline=\"middle\" text-anchor=\"middle\" font-size=\"14px\" font-family=\"sans\\-serif:style=normal:variant=normal:weight=normal:stretch=normal:size=10.0\">1: </text><rect x=\"10.0\" y=\"105.0\" width=\"40\" height=\"40\" stroke=\"black\" fill=\"white\" stroke-width=\"0\"/><text x=\"30.0\" y=\"125.0\" dominant-baseline=\"middle\" text-anchor=\"middle\" font-size=\"14px\" font-family=\"sans\\-serif:style=normal:variant=normal:weight=normal:stretch=normal:size=10.0\">2: </text><circle cx=\"90.0\" cy=\"125.0\" r=\"10.0\"/><circle cx=\"90.0\" cy=\"25.0\" r=\"10.0\"/><rect x=\"70.0\" y=\"55.0\" width=\"40\" height=\"40\" stroke=\"black\" fill=\"white\" stroke-width=\"1\"/><text x=\"90.0\" y=\"75.0\" dominant-baseline=\"middle\" text-anchor=\"middle\" font-size=\"18px\" font-family=\"sans\\-serif:style=normal:variant=normal:weight=normal:stretch=normal:size=10.0\">X</text><rect x=\"130.0\" y=\"105.0\" width=\"40\" height=\"40\" stroke=\"black\" fill=\"white\" stroke-width=\"1\"/><text x=\"150.0\" y=\"125.0\" dominant-baseline=\"middle\" text-anchor=\"middle\" font-size=\"18px\" font-family=\"sans\\-serif:style=normal:variant=normal:weight=normal:stretch=normal:size=10.0\">X</text></svg>"
          },
          "metadata": {}
        }
      ]
    }
  ]
}