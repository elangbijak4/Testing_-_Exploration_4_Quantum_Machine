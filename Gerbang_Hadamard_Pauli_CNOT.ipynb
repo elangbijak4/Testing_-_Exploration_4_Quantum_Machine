{
  "nbformat": 4,
  "nbformat_minor": 0,
  "metadata": {
    "colab": {
      "provenance": [],
      "authorship_tag": "ABX9TyPa5GyD1wtESalBdZcU9jpl",
      "include_colab_link": true
    },
    "kernelspec": {
      "name": "python3",
      "display_name": "Python 3"
    },
    "language_info": {
      "name": "python"
    }
  },
  "cells": [
    {
      "cell_type": "markdown",
      "metadata": {
        "id": "view-in-github",
        "colab_type": "text"
      },
      "source": [
        "<a href=\"https://colab.research.google.com/github/elangbijak4/Testing_-_Exploration_4_Quantum_Machine/blob/main/Gerbang_Hadamard_Pauli_CNOT.ipynb\" target=\"_parent\"><img src=\"https://colab.research.google.com/assets/colab-badge.svg\" alt=\"Open In Colab\"/></a>"
      ]
    },
    {
      "cell_type": "code",
      "source": [
        "!pip install  cirq"
      ],
      "metadata": {
        "id": "vpgVwLnewI-C"
      },
      "execution_count": null,
      "outputs": []
    },
    {
      "cell_type": "code",
      "source": [
        "!pip install cirq --upgrade  # Upgrade Cirq to the latest version"
      ],
      "metadata": {
        "id": "fDHFxLSpy7vm"
      },
      "execution_count": null,
      "outputs": []
    },
    {
      "cell_type": "code",
      "source": [
        "import cirq\n",
        "import matplotlib.pyplot as plt"
      ],
      "metadata": {
        "id": "aQBVnNEizAG6"
      },
      "execution_count": 4,
      "outputs": []
    },
    {
      "cell_type": "code",
      "source": [
        "from cirq.contrib.svg import SVGCircuit  # Import the necessary module for drawing"
      ],
      "metadata": {
        "id": "JS3iPsse2i9V"
      },
      "execution_count": 11,
      "outputs": []
    },
    {
      "cell_type": "code",
      "source": [
        "from IPython.display import SVG, display  # Import display from IPython"
      ],
      "metadata": {
        "id": "XcQPH9uV3ZKx"
      },
      "execution_count": 16,
      "outputs": []
    },
    {
      "cell_type": "code",
      "source": [
        "import numpy as np"
      ],
      "metadata": {
        "id": "p3cHQ5PuCncN"
      },
      "execution_count": 47,
      "outputs": []
    },
    {
      "cell_type": "code",
      "source": [
        "# Function to simulate and plot a single-qubit state\n",
        "def simulate_and_plot(circuit, qubit, title):\n",
        "    simulator = cirq.Simulator()\n",
        "    result = simulator.simulate(circuit)\n",
        "    state_vector = result.final_state_vector\n",
        "    probabilities = np.abs(state_vector)**2\n",
        "\n",
        "    plt.bar(['|0⟩', '|1⟩'], probabilities, color=['blue', 'red'])\n",
        "    plt.title(title)\n",
        "    plt.ylabel('Probability')\n",
        "    plt.ylim(0, 1)\n",
        "    plt.show()"
      ],
      "metadata": {
        "id": "5ND6YIJTISNm"
      },
      "execution_count": 54,
      "outputs": []
    },
    {
      "cell_type": "code",
      "source": [
        "# Define a qubit\n",
        "qubit = cirq.GridQubit(0, 0)"
      ],
      "metadata": {
        "id": "1zhuknCbIehb"
      },
      "execution_count": 55,
      "outputs": []
    },
    {
      "cell_type": "code",
      "source": [
        "# Example 1: Hadamard Gate\n",
        "circuit_h = cirq.Circuit(cirq.H(qubit))\n",
        "simulate_and_plot(circuit_h, qubit, 'Hadamard Gate')"
      ],
      "metadata": {
        "colab": {
          "base_uri": "https://localhost:8080/",
          "height": 453
        },
        "id": "ScV-KYHeIhP4",
        "outputId": "276ab995-ec7c-498f-b56d-ab54f071bc5d"
      },
      "execution_count": 56,
      "outputs": [
        {
          "output_type": "display_data",
          "data": {
            "text/plain": [
              "<Figure size 640x480 with 1 Axes>"
            ],
            "image/png": "[encoded data removed]"
          },
          "metadata": {}
        }
      ]
    },
    {
      "cell_type": "code",
      "source": [
        "# Use SVGCircuit to draw the circuit\n",
        "svg_circuit = cirq.contrib.svg.SVGCircuit(circuit_h)\n",
        "svg_string = svg_circuit._repr_svg_()\n",
        "display(SVG(svg_string))"
      ],
      "metadata": {
        "colab": {
          "base_uri": "https://localhost:8080/",
          "height": 71
        },
        "id": "LuyeKmDeJOVP",
        "outputId": "da226336-1b05-4a8b-bc6f-30b8bcb22c56"
      },
      "execution_count": 60,
      "outputs": [
        {
          "output_type": "display_data",
          "data": {
            "text/plain": [
              "<IPython.core.display.SVG object>"
            ],
            "image/svg+xml": "<svg xmlns=\"http://www.w3.org/2000/svg\" width=\"169.517734375\" height=\"50.0\"><line x1=\"34.7588671875\" x2=\"139.517734375\" y1=\"25.0\" y2=\"25.0\" stroke=\"#1967d2\" stroke-width=\"1\"/><rect x=\"10.0\" y=\"5.0\" width=\"49.517734375\" height=\"40\" stroke=\"black\" fill=\"white\" stroke-width=\"0\"/><text x=\"34.7588671875\" y=\"25.0\" dominant-baseline=\"middle\" text-anchor=\"middle\" font-size=\"14px\" font-family=\"sans\\-serif:style=normal:variant=normal:weight=normal:stretch=normal:size=10.0\">(0, 0): </text><rect x=\"79.517734375\" y=\"5.0\" width=\"40\" height=\"40\" stroke=\"black\" fill=\"white\" stroke-width=\"1\"/><text x=\"99.517734375\" y=\"25.0\" dominant-baseline=\"middle\" text-anchor=\"middle\" font-size=\"18px\" font-family=\"sans\\-serif:style=normal:variant=normal:weight=normal:stretch=normal:size=10.0\">H</text></svg>"
          },
          "metadata": {}
        }
      ]
    },
    {
      "cell_type": "code",
      "source": [
        "# Example 2: Pauli-Z Gate\n",
        "circuit_z = cirq.Circuit(cirq.Z(qubit))\n",
        "simulate_and_plot(circuit_z, qubit, 'Pauli-Z Gate')"
      ],
      "metadata": {
        "colab": {
          "base_uri": "https://localhost:8080/",
          "height": 453
        },
        "id": "m9S6r2w5Ijnf",
        "outputId": "7a8c8b30-4dfb-4132-f908-b02c0a2437ec"
      },
      "execution_count": 61,
      "outputs": [
        {
          "output_type": "display_data",
          "data": {
            "text/plain": [
              "<Figure size 640x480 with 1 Axes>"
            ],
            "image/png": "[encoded data removed]"
          },
          "metadata": {}
        }
      ]
    },
    {
      "cell_type": "code",
      "source": [
        "# Use SVGCircuit to draw the circuit\n",
        "svg_circuit = cirq.contrib.svg.SVGCircuit(circuit_z)\n",
        "svg_string = svg_circuit._repr_svg_()\n",
        "display(SVG(svg_string))"
      ],
      "metadata": {
        "colab": {
          "base_uri": "https://localhost:8080/",
          "height": 71
        },
        "id": "qqOQZr4bJugh",
        "outputId": "eb98168d-69a4-48f8-987a-5ee37eb48574"
      },
      "execution_count": 62,
      "outputs": [
        {
          "output_type": "display_data",
          "data": {
            "text/plain": [
              "<IPython.core.display.SVG object>"
            ],
            "image/svg+xml": "<svg xmlns=\"http://www.w3.org/2000/svg\" width=\"169.517734375\" height=\"50.0\"><line x1=\"34.7588671875\" x2=\"139.517734375\" y1=\"25.0\" y2=\"25.0\" stroke=\"#1967d2\" stroke-width=\"1\"/><rect x=\"10.0\" y=\"5.0\" width=\"49.517734375\" height=\"40\" stroke=\"black\" fill=\"white\" stroke-width=\"0\"/><text x=\"34.7588671875\" y=\"25.0\" dominant-baseline=\"middle\" text-anchor=\"middle\" font-size=\"14px\" font-family=\"sans\\-serif:style=normal:variant=normal:weight=normal:stretch=normal:size=10.0\">(0, 0): </text><rect x=\"79.517734375\" y=\"5.0\" width=\"40\" height=\"40\" stroke=\"black\" fill=\"white\" stroke-width=\"1\"/><text x=\"99.517734375\" y=\"25.0\" dominant-baseline=\"middle\" text-anchor=\"middle\" font-size=\"18px\" font-family=\"sans\\-serif:style=normal:variant=normal:weight=normal:stretch=normal:size=10.0\">Z</text></svg>"
          },
          "metadata": {}
        }
      ]
    },
    {
      "cell_type": "code",
      "source": [
        "# Example 3: CNOT Gate\n",
        "control_qubit = cirq.GridQubit(0, 0)\n",
        "target_qubit = cirq.GridQubit(0, 1)\n",
        "circuit_cnot = cirq.Circuit(\n",
        "    cirq.H(control_qubit),  # Put control qubit into superposition\n",
        "    cirq.CNOT(control_qubit, target_qubit)\n",
        ")"
      ],
      "metadata": {
        "id": "ZH9ni1sMImR4"
      },
      "execution_count": 63,
      "outputs": []
    },
    {
      "cell_type": "code",
      "source": [
        "# Use SVGCircuit to draw the circuit\n",
        "svg_circuit = cirq.contrib.svg.SVGCircuit(circuit_cnot)\n",
        "svg_string = svg_circuit._repr_svg_()\n",
        "display(SVG(svg_string))"
      ],
      "metadata": {
        "colab": {
          "base_uri": "https://localhost:8080/",
          "height": 121
        },
        "id": "wi0K4tTFKzQQ",
        "outputId": "b9ff9cee-8cfb-4c53-97de-eab4255f5446"
      },
      "execution_count": 66,
      "outputs": [
        {
          "output_type": "display_data",
          "data": {
            "text/plain": [
              "<IPython.core.display.SVG object>"
            ],
            "image/svg+xml": "<svg xmlns=\"http://www.w3.org/2000/svg\" width=\"229.517734375\" height=\"100.0\"><line x1=\"34.7588671875\" x2=\"199.517734375\" y1=\"25.0\" y2=\"25.0\" stroke=\"#1967d2\" stroke-width=\"1\"/><line x1=\"34.7588671875\" x2=\"199.517734375\" y1=\"75.0\" y2=\"75.0\" stroke=\"#1967d2\" stroke-width=\"1\"/><line x1=\"159.517734375\" x2=\"159.517734375\" y1=\"25.0\" y2=\"75.0\" stroke=\"black\" stroke-width=\"3\"/><rect x=\"10.0\" y=\"5.0\" width=\"49.517734375\" height=\"40\" stroke=\"black\" fill=\"white\" stroke-width=\"0\"/><text x=\"34.7588671875\" y=\"25.0\" dominant-baseline=\"middle\" text-anchor=\"middle\" font-size=\"14px\" font-family=\"sans\\-serif:style=normal:variant=normal:weight=normal:stretch=normal:size=10.0\">(0, 0): </text><rect x=\"10.0\" y=\"55.0\" width=\"49.517734375\" height=\"40\" stroke=\"black\" fill=\"white\" stroke-width=\"0\"/><text x=\"34.7588671875\" y=\"75.0\" dominant-baseline=\"middle\" text-anchor=\"middle\" font-size=\"14px\" font-family=\"sans\\-serif:style=normal:variant=normal:weight=normal:stretch=normal:size=10.0\">(0, 1): </text><rect x=\"79.517734375\" y=\"5.0\" width=\"40\" height=\"40\" stroke=\"black\" fill=\"white\" stroke-width=\"1\"/><text x=\"99.517734375\" y=\"25.0\" dominant-baseline=\"middle\" text-anchor=\"middle\" font-size=\"18px\" font-family=\"sans\\-serif:style=normal:variant=normal:weight=normal:stretch=normal:size=10.0\">H</text><circle cx=\"159.517734375\" cy=\"25.0\" r=\"10.0\"/><rect x=\"139.517734375\" y=\"55.0\" width=\"40\" height=\"40\" stroke=\"black\" fill=\"white\" stroke-width=\"1\"/><text x=\"159.517734375\" y=\"75.0\" dominant-baseline=\"middle\" text-anchor=\"middle\" font-size=\"18px\" font-family=\"sans\\-serif:style=normal:variant=normal:weight=normal:stretch=normal:size=10.0\">X</text></svg>"
          },
          "metadata": {}
        }
      ]
    },
    {
      "cell_type": "code",
      "source": [
        "# Note: Displaying the state vector for 2 qubits\n",
        "simulator = cirq.Simulator()\n",
        "result = simulator.simulate(circuit_cnot)\n",
        "state_vector = result.final_state_vector\n",
        "probabilities = np.abs(state_vector)**2"
      ],
      "metadata": {
        "id": "GrHmLFiTIpDc"
      },
      "execution_count": 68,
      "outputs": []
    },
    {
      "cell_type": "code",
      "source": [
        "state_vector"
      ],
      "metadata": {
        "colab": {
          "base_uri": "https://localhost:8080/"
        },
        "id": "hgQdbDjxLR3-",
        "outputId": "2f27157d-4358-4e49-faa8-396b74163f4b"
      },
      "execution_count": 69,
      "outputs": [
        {
          "output_type": "execute_result",
          "data": {
            "text/plain": [
              "array([0.70710677+0.j, 0.        +0.j, 0.        +0.j, 0.70710677+0.j],\n",
              "      dtype=complex64)"
            ]
          },
          "metadata": {},
          "execution_count": 69
        }
      ]
    },
    {
      "cell_type": "code",
      "source": [
        "probabilities"
      ],
      "metadata": {
        "colab": {
          "base_uri": "https://localhost:8080/"
        },
        "id": "CaDG4G07Lblr",
        "outputId": "9e4ef188-9481-4811-fe0f-3bb872ca33c6"
      },
      "execution_count": 71,
      "outputs": [
        {
          "output_type": "execute_result",
          "data": {
            "text/plain": [
              "array([0.49999997, 0.        , 0.        , 0.49999997], dtype=float32)"
            ]
          },
          "metadata": {},
          "execution_count": 71
        }
      ]
    },
    {
      "cell_type": "code",
      "source": [
        "plt.bar(['|00⟩', '|01⟩', '|10⟩', '|11⟩'], probabilities, color=['blue', 'red', 'green', 'purple'])\n",
        "plt.title('CNOT Gate')\n",
        "plt.ylabel('Probability')\n",
        "plt.ylim(0, 1)\n",
        "plt.show()"
      ],
      "metadata": {
        "colab": {
          "base_uri": "https://localhost:8080/",
          "height": 453
        },
        "id": "ZK-N0eFrIsSB",
        "outputId": "c2e657b4-816d-4214-a285-0d2e8a3116da"
      },
      "execution_count": 70,
      "outputs": [
        {
          "output_type": "display_data",
          "data": {
            "text/plain": [
              "<Figure size 640x480 with 1 Axes>"
            ],
            "image/png": "[encoded data removed]"
          },
          "metadata": {}
        }
      ]
    }
  ]
}