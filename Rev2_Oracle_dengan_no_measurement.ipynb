{
  "nbformat": 4,
  "nbformat_minor": 0,
  "metadata": {
    "colab": {
      "provenance": [],
      "authorship_tag": "ABX9TyOE3Tkij00LSWIrwHi5rx8d",
      "include_colab_link": true
    },
    "kernelspec": {
      "name": "python3",
      "display_name": "Python 3"
    },
    "language_info": {
      "name": "python"
    }
  },
  "cells": [
    {
      "cell_type": "markdown",
      "metadata": {
        "id": "view-in-github",
        "colab_type": "text"
      },
      "source": [
        "<a href=\"https://colab.research.google.com/github/elangbijak4/Testing_-_Exploration_4_Quantum_Machine/blob/main/Rev2_Oracle_dengan_no_measurement.ipynb\" target=\"_parent\"><img src=\"https://colab.research.google.com/assets/colab-badge.svg\" alt=\"Open In Colab\"/></a>"
      ]
    },
    {
      "cell_type": "code",
      "source": [
        "!pip install  cirq"
      ],
      "metadata": {
        "id": "vpgVwLnewI-C"
      },
      "execution_count": null,
      "outputs": []
    },
    {
      "cell_type": "code",
      "source": [
        "!pip install cirq --upgrade  # Upgrade Cirq to the latest version"
      ],
      "metadata": {
        "id": "fDHFxLSpy7vm"
      },
      "execution_count": null,
      "outputs": []
    },
    {
      "cell_type": "code",
      "source": [
        "import cirq\n",
        "import matplotlib.pyplot as plt"
      ],
      "metadata": {
        "id": "aQBVnNEizAG6"
      },
      "execution_count": 4,
      "outputs": []
    },
    {
      "cell_type": "code",
      "source": [
        "from cirq.contrib.svg import SVGCircuit  # Import the necessary module for drawing"
      ],
      "metadata": {
        "id": "JS3iPsse2i9V"
      },
      "execution_count": 11,
      "outputs": []
    },
    {
      "cell_type": "code",
      "source": [
        "from IPython.display import SVG, display  # Import display from IPython"
      ],
      "metadata": {
        "id": "XcQPH9uV3ZKx"
      },
      "execution_count": 16,
      "outputs": []
    },
    {
      "cell_type": "code",
      "source": [
        "def oracle_no_measurement_advanced(qubits):\n",
        "    \"\"\"\n",
        "    Oracle yang menerapkan transformasi Fourier Kuantum pada qubit pertama\n",
        "    dan kemudian menukar nilai qubit pertama dan kedua.\n",
        "    \"\"\"\n",
        "    yield cirq.H(qubits[0])\n",
        "    yield cirq.SWAP(qubits[0], qubits[1])\n",
        "\n",
        "# Uji coba\n",
        "qubits = cirq.LineQubit.range(3)\n",
        "circuit_no_measurement_advanced = cirq.Circuit(oracle_no_measurement_advanced(qubits))\n",
        "print(circuit_no_measurement_advanced)\n",
        "\n",
        "simulator = cirq.Simulator()\n",
        "result_no_measurement_advanced = simulator.simulate(circuit_no_measurement_advanced)\n",
        "print(result_no_measurement_advanced)"
      ],
      "metadata": {
        "colab": {
          "base_uri": "https://localhost:8080/"
        },
        "id": "WDUKS6yABOc3",
        "outputId": "2791b83a-bd03-4bcf-9dc0-6dae65310eca"
      },
      "execution_count": 44,
      "outputs": [
        {
          "output_type": "stream",
          "name": "stdout",
          "text": [
            "0: ───H───×───\n",
            "          │\n",
            "1: ───────×───\n",
            "measurements: (no measurements)\n",
            "\n",
            "qubits: (cirq.LineQubit(0),)\n",
            "output vector: |0⟩\n",
            "\n",
            "qubits: (cirq.LineQubit(1),)\n",
            "output vector: 0.707|0⟩ + 0.707|1⟩\n",
            "\n",
            "phase:\n",
            "output vector: |⟩\n"
          ]
        }
      ]
    },
    {
      "cell_type": "code",
      "source": [
        "# Use SVGCircuit to draw the circuit\n",
        "svg_circuit = cirq.contrib.svg.SVGCircuit(circuit_no_measurement_advanced)\n",
        "\n",
        "# Get the SVG content as a string (using _repr_svg_)\n",
        "svg_string = svg_circuit._repr_svg_()\n",
        "\n",
        "# Display the SVG in the notebook\n",
        "display(SVG(svg_string))"
      ],
      "metadata": {
        "colab": {
          "base_uri": "https://localhost:8080/",
          "height": 121
        },
        "id": "nSwXA31qBkW1",
        "outputId": "644ee932-a565-4901-ba74-03e3c7854d96"
      },
      "execution_count": 45,
      "outputs": [
        {
          "output_type": "display_data",
          "data": {
            "text/plain": [
              "<IPython.core.display.SVG object>"
            ],
            "image/svg+xml": "<svg xmlns=\"http://www.w3.org/2000/svg\" width=\"220.0\" height=\"100.0\"><line x1=\"30.0\" x2=\"190.0\" y1=\"25.0\" y2=\"25.0\" stroke=\"#1967d2\" stroke-width=\"1\"/><line x1=\"30.0\" x2=\"190.0\" y1=\"75.0\" y2=\"75.0\" stroke=\"#1967d2\" stroke-width=\"1\"/><line x1=\"150.0\" x2=\"150.0\" y1=\"25.0\" y2=\"75.0\" stroke=\"black\" stroke-width=\"3\"/><rect x=\"10.0\" y=\"5.0\" width=\"40\" height=\"40\" stroke=\"black\" fill=\"white\" stroke-width=\"0\"/><text x=\"30.0\" y=\"25.0\" dominant-baseline=\"middle\" text-anchor=\"middle\" font-size=\"14px\" font-family=\"sans\\-serif:style=normal:variant=normal:weight=normal:stretch=normal:size=10.0\">0: </text><rect x=\"10.0\" y=\"55.0\" width=\"40\" height=\"40\" stroke=\"black\" fill=\"white\" stroke-width=\"0\"/><text x=\"30.0\" y=\"75.0\" dominant-baseline=\"middle\" text-anchor=\"middle\" font-size=\"14px\" font-family=\"sans\\-serif:style=normal:variant=normal:weight=normal:stretch=normal:size=10.0\">1: </text><rect x=\"70.0\" y=\"5.0\" width=\"40\" height=\"40\" stroke=\"black\" fill=\"white\" stroke-width=\"1\"/><text x=\"90.0\" y=\"25.0\" dominant-baseline=\"middle\" text-anchor=\"middle\" font-size=\"18px\" font-family=\"sans\\-serif:style=normal:variant=normal:weight=normal:stretch=normal:size=10.0\">H</text><text x=\"150.0\" y=\"28.0\" dominant-baseline=\"middle\" text-anchor=\"middle\" font-size=\"40px\" font-family=\"sans\\-serif:style=normal:variant=normal:weight=normal:stretch=normal:size=10.0\">×</text><text x=\"150.0\" y=\"78.0\" dominant-baseline=\"middle\" text-anchor=\"middle\" font-size=\"40px\" font-family=\"sans\\-serif:style=normal:variant=normal:weight=normal:stretch=normal:size=10.0\">×</text></svg>"
          },
          "metadata": {}
        }
      ]
    }
  ]
}