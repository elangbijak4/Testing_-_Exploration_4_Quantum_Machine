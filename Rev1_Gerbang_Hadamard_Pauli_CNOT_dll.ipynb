{
  "nbformat": 4,
  "nbformat_minor": 0,
  "metadata": {
    "colab": {
      "provenance": [],
      "authorship_tag": "ABX9TyP4y+sysR41S8coXvhdSTe+",
      "include_colab_link": true
    },
    "kernelspec": {
      "name": "python3",
      "display_name": "Python 3"
    },
    "language_info": {
      "name": "python"
    }
  },
  "cells": [
    {
      "cell_type": "markdown",
      "metadata": {
        "id": "view-in-github",
        "colab_type": "text"
      },
      "source": [
        "<a href=\"https://colab.research.google.com/github/elangbijak4/Testing_-_Exploration_4_Quantum_Machine/blob/main/Rev1_Gerbang_Hadamard_Pauli_CNOT_dll.ipynb\" target=\"_parent\"><img src=\"https://colab.research.google.com/assets/colab-badge.svg\" alt=\"Open In Colab\"/></a>"
      ]
    },
    {
      "cell_type": "code",
      "source": [
        "!pip install  cirq"
      ],
      "metadata": {
        "id": "vpgVwLnewI-C"
      },
      "execution_count": null,
      "outputs": []
    },
    {
      "cell_type": "code",
      "source": [
        "!pip install cirq --upgrade  # Upgrade Cirq to the latest version"
      ],
      "metadata": {
        "id": "fDHFxLSpy7vm"
      },
      "execution_count": null,
      "outputs": []
    },
    {
      "cell_type": "code",
      "source": [
        "import cirq\n",
        "import matplotlib.pyplot as plt"
      ],
      "metadata": {
        "id": "aQBVnNEizAG6"
      },
      "execution_count": 4,
      "outputs": []
    },
    {
      "cell_type": "code",
      "source": [
        "from cirq.contrib.svg import SVGCircuit  # Import the necessary module for drawing"
      ],
      "metadata": {
        "id": "JS3iPsse2i9V"
      },
      "execution_count": 11,
      "outputs": []
    },
    {
      "cell_type": "code",
      "source": [
        "from IPython.display import SVG, display  # Import display from IPython"
      ],
      "metadata": {
        "id": "XcQPH9uV3ZKx"
      },
      "execution_count": 16,
      "outputs": []
    },
    {
      "cell_type": "code",
      "source": [
        "import numpy as np"
      ],
      "metadata": {
        "id": "p3cHQ5PuCncN"
      },
      "execution_count": 47,
      "outputs": []
    },
    {
      "cell_type": "code",
      "source": [
        "# Function to simulate and plot a single-qubit state\n",
        "def simulate_and_plot(circuit, qubit, title):\n",
        "    simulator = cirq.Simulator()\n",
        "    result = simulator.simulate(circuit)\n",
        "    state_vector = result.final_state_vector\n",
        "    probabilities = np.abs(state_vector)**2\n",
        "\n",
        "    plt.bar(['|0⟩', '|1⟩'], probabilities, color=['blue', 'red'])\n",
        "    plt.title(title)\n",
        "    plt.ylabel('Probability')\n",
        "    plt.ylim(0, 1)\n",
        "    plt.show()"
      ],
      "metadata": {
        "id": "5ND6YIJTISNm"
      },
      "execution_count": 54,
      "outputs": []
    },
    {
      "cell_type": "code",
      "source": [
        "# Define a qubit\n",
        "qubit = cirq.GridQubit(0, 0)"
      ],
      "metadata": {
        "id": "1zhuknCbIehb"
      },
      "execution_count": 55,
      "outputs": []
    },
    {
      "cell_type": "code",
      "source": [
        "# Example 1: Hadamard Gate\n",
        "circuit_h = cirq.Circuit(cirq.H(qubit))\n",
        "simulate_and_plot(circuit_h, qubit, 'Hadamard Gate')"
      ],
      "metadata": {
        "colab": {
          "base_uri": "https://localhost:8080/",
          "height": 453
        },
        "id": "ScV-KYHeIhP4",
        "outputId": "276ab995-ec7c-498f-b56d-ab54f071bc5d"
      },
      "execution_count": 56,
      "outputs": [
        {
          "output_type": "display_data",
          "data": {
            "text/plain": [
              "<Figure size 640x480 with 1 Axes>"
            ],
            "image/png": "[encoded data removed]"
          },
          "metadata": {}
        }
      ]
    },
    {
      "cell_type": "code",
      "source": [
        "# Use SVGCircuit to draw the circuit\n",
        "svg_circuit = cirq.contrib.svg.SVGCircuit(circuit_h)\n",
        "svg_string = svg_circuit._repr_svg_()\n",
        "display(SVG(svg_string))"
      ],
      "metadata": {
        "colab": {
          "base_uri": "https://localhost:8080/",
          "height": 71
        },
        "id": "LuyeKmDeJOVP",
        "outputId": "da226336-1b05-4a8b-bc6f-30b8bcb22c56"
      },
      "execution_count": 60,
      "outputs": [
        {
          "output_type": "display_data",
          "data": {
            "text/plain": [
              "<IPython.core.display.SVG object>"
            ],
            "image/svg+xml": "<svg xmlns=\"http://www.w3.org/2000/svg\" width=\"169.517734375\" height=\"50.0\"><line x1=\"34.7588671875\" x2=\"139.517734375\" y1=\"25.0\" y2=\"25.0\" stroke=\"#1967d2\" stroke-width=\"1\"/><rect x=\"10.0\" y=\"5.0\" width=\"49.517734375\" height=\"40\" stroke=\"black\" fill=\"white\" stroke-width=\"0\"/><text x=\"34.7588671875\" y=\"25.0\" dominant-baseline=\"middle\" text-anchor=\"middle\" font-size=\"14px\" font-family=\"sans\\-serif:style=normal:variant=normal:weight=normal:stretch=normal:size=10.0\">(0, 0): </text><rect x=\"79.517734375\" y=\"5.0\" width=\"40\" height=\"40\" stroke=\"black\" fill=\"white\" stroke-width=\"1\"/><text x=\"99.517734375\" y=\"25.0\" dominant-baseline=\"middle\" text-anchor=\"middle\" font-size=\"18px\" font-family=\"sans\\-serif:style=normal:variant=normal:weight=normal:stretch=normal:size=10.0\">H</text></svg>"
          },
          "metadata": {}
        }
      ]
    },
    {
      "cell_type": "code",
      "source": [
        "# Example 2: Pauli-Z Gate\n",
        "circuit_z = cirq.Circuit(cirq.Z(qubit))\n",
        "simulate_and_plot(circuit_z, qubit, 'Pauli-Z Gate')"
      ],
      "metadata": {
        "colab": {
          "base_uri": "https://localhost:8080/",
          "height": 453
        },
        "id": "m9S6r2w5Ijnf",
        "outputId": "7a8c8b30-4dfb-4132-f908-b02c0a2437ec"
      },
      "execution_count": 61,
      "outputs": [
        {
          "output_type": "display_data",
          "data": {
            "text/plain": [
              "<Figure size 640x480 with 1 Axes>"
            ],
            "image/png": "[encoded data removed]"
          },
          "metadata": {}
        }
      ]
    },
    {
      "cell_type": "code",
      "source": [
        "# Use SVGCircuit to draw the circuit\n",
        "svg_circuit = cirq.contrib.svg.SVGCircuit(circuit_z)\n",
        "svg_string = svg_circuit._repr_svg_()\n",
        "display(SVG(svg_string))"
      ],
      "metadata": {
        "colab": {
          "base_uri": "https://localhost:8080/",
          "height": 71
        },
        "id": "qqOQZr4bJugh",
        "outputId": "eb98168d-69a4-48f8-987a-5ee37eb48574"
      },
      "execution_count": 62,
      "outputs": [
        {
          "output_type": "display_data",
          "data": {
            "text/plain": [
              "<IPython.core.display.SVG object>"
            ],
            "image/svg+xml": "<svg xmlns=\"http://www.w3.org/2000/svg\" width=\"169.517734375\" height=\"50.0\"><line x1=\"34.7588671875\" x2=\"139.517734375\" y1=\"25.0\" y2=\"25.0\" stroke=\"#1967d2\" stroke-width=\"1\"/><rect x=\"10.0\" y=\"5.0\" width=\"49.517734375\" height=\"40\" stroke=\"black\" fill=\"white\" stroke-width=\"0\"/><text x=\"34.7588671875\" y=\"25.0\" dominant-baseline=\"middle\" text-anchor=\"middle\" font-size=\"14px\" font-family=\"sans\\-serif:style=normal:variant=normal:weight=normal:stretch=normal:size=10.0\">(0, 0): </text><rect x=\"79.517734375\" y=\"5.0\" width=\"40\" height=\"40\" stroke=\"black\" fill=\"white\" stroke-width=\"1\"/><text x=\"99.517734375\" y=\"25.0\" dominant-baseline=\"middle\" text-anchor=\"middle\" font-size=\"18px\" font-family=\"sans\\-serif:style=normal:variant=normal:weight=normal:stretch=normal:size=10.0\">Z</text></svg>"
          },
          "metadata": {}
        }
      ]
    },
    {
      "cell_type": "code",
      "source": [
        "# Example 3: CNOT Gate\n",
        "control_qubit = cirq.GridQubit(0, 0)\n",
        "target_qubit = cirq.GridQubit(0, 1)\n",
        "circuit_cnot = cirq.Circuit(\n",
        "    cirq.H(control_qubit),  # Put control qubit into superposition\n",
        "    cirq.CNOT(control_qubit, target_qubit)\n",
        ")"
      ],
      "metadata": {
        "id": "ZH9ni1sMImR4"
      },
      "execution_count": 63,
      "outputs": []
    },
    {
      "cell_type": "code",
      "source": [
        "# Use SVGCircuit to draw the circuit\n",
        "svg_circuit = cirq.contrib.svg.SVGCircuit(circuit_cnot)\n",
        "svg_string = svg_circuit._repr_svg_()\n",
        "display(SVG(svg_string))"
      ],
      "metadata": {
        "colab": {
          "base_uri": "https://localhost:8080/",
          "height": 121
        },
        "id": "wi0K4tTFKzQQ",
        "outputId": "b9ff9cee-8cfb-4c53-97de-eab4255f5446"
      },
      "execution_count": 66,
      "outputs": [
        {
          "output_type": "display_data",
          "data": {
            "text/plain": [
              "<IPython.core.display.SVG object>"
            ],
            "image/svg+xml": "<svg xmlns=\"http://www.w3.org/2000/svg\" width=\"229.517734375\" height=\"100.0\"><line x1=\"34.7588671875\" x2=\"199.517734375\" y1=\"25.0\" y2=\"25.0\" stroke=\"#1967d2\" stroke-width=\"1\"/><line x1=\"34.7588671875\" x2=\"199.517734375\" y1=\"75.0\" y2=\"75.0\" stroke=\"#1967d2\" stroke-width=\"1\"/><line x1=\"159.517734375\" x2=\"159.517734375\" y1=\"25.0\" y2=\"75.0\" stroke=\"black\" stroke-width=\"3\"/><rect x=\"10.0\" y=\"5.0\" width=\"49.517734375\" height=\"40\" stroke=\"black\" fill=\"white\" stroke-width=\"0\"/><text x=\"34.7588671875\" y=\"25.0\" dominant-baseline=\"middle\" text-anchor=\"middle\" font-size=\"14px\" font-family=\"sans\\-serif:style=normal:variant=normal:weight=normal:stretch=normal:size=10.0\">(0, 0): </text><rect x=\"10.0\" y=\"55.0\" width=\"49.517734375\" height=\"40\" stroke=\"black\" fill=\"white\" stroke-width=\"0\"/><text x=\"34.7588671875\" y=\"75.0\" dominant-baseline=\"middle\" text-anchor=\"middle\" font-size=\"14px\" font-family=\"sans\\-serif:style=normal:variant=normal:weight=normal:stretch=normal:size=10.0\">(0, 1): </text><rect x=\"79.517734375\" y=\"5.0\" width=\"40\" height=\"40\" stroke=\"black\" fill=\"white\" stroke-width=\"1\"/><text x=\"99.517734375\" y=\"25.0\" dominant-baseline=\"middle\" text-anchor=\"middle\" font-size=\"18px\" font-family=\"sans\\-serif:style=normal:variant=normal:weight=normal:stretch=normal:size=10.0\">H</text><circle cx=\"159.517734375\" cy=\"25.0\" r=\"10.0\"/><rect x=\"139.517734375\" y=\"55.0\" width=\"40\" height=\"40\" stroke=\"black\" fill=\"white\" stroke-width=\"1\"/><text x=\"159.517734375\" y=\"75.0\" dominant-baseline=\"middle\" text-anchor=\"middle\" font-size=\"18px\" font-family=\"sans\\-serif:style=normal:variant=normal:weight=normal:stretch=normal:size=10.0\">X</text></svg>"
          },
          "metadata": {}
        }
      ]
    },
    {
      "cell_type": "code",
      "source": [
        "# Note: Displaying the state vector for 2 qubits\n",
        "simulator = cirq.Simulator()\n",
        "result = simulator.simulate(circuit_cnot)\n",
        "state_vector = result.final_state_vector\n",
        "probabilities = np.abs(state_vector)**2"
      ],
      "metadata": {
        "id": "GrHmLFiTIpDc"
      },
      "execution_count": 68,
      "outputs": []
    },
    {
      "cell_type": "code",
      "source": [
        "state_vector"
      ],
      "metadata": {
        "colab": {
          "base_uri": "https://localhost:8080/"
        },
        "id": "hgQdbDjxLR3-",
        "outputId": "2f27157d-4358-4e49-faa8-396b74163f4b"
      },
      "execution_count": 69,
      "outputs": [
        {
          "output_type": "execute_result",
          "data": {
            "text/plain": [
              "array([0.70710677+0.j, 0.        +0.j, 0.        +0.j, 0.70710677+0.j],\n",
              "      dtype=complex64)"
            ]
          },
          "metadata": {},
          "execution_count": 69
        }
      ]
    },
    {
      "cell_type": "code",
      "source": [
        "probabilities"
      ],
      "metadata": {
        "colab": {
          "base_uri": "https://localhost:8080/"
        },
        "id": "CaDG4G07Lblr",
        "outputId": "9e4ef188-9481-4811-fe0f-3bb872ca33c6"
      },
      "execution_count": 71,
      "outputs": [
        {
          "output_type": "execute_result",
          "data": {
            "text/plain": [
              "array([0.49999997, 0.        , 0.        , 0.49999997], dtype=float32)"
            ]
          },
          "metadata": {},
          "execution_count": 71
        }
      ]
    },
    {
      "cell_type": "code",
      "source": [
        "plt.bar(['|00⟩', '|01⟩', '|10⟩', '|11⟩'], probabilities, color=['blue', 'red', 'green', 'purple'])\n",
        "plt.title('CNOT Gate')\n",
        "plt.ylabel('Probability')\n",
        "plt.ylim(0, 1)\n",
        "plt.show()"
      ],
      "metadata": {
        "colab": {
          "base_uri": "https://localhost:8080/",
          "height": 453
        },
        "id": "ZK-N0eFrIsSB",
        "outputId": "c2e657b4-816d-4214-a285-0d2e8a3116da"
      },
      "execution_count": 70,
      "outputs": [
        {
          "output_type": "display_data",
          "data": {
            "text/plain": [
              "<Figure size 640x480 with 1 Axes>"
            ],
            "image/png": "[encoded data removed]"
          },
          "metadata": {}
        }
      ]
    },
    {
      "cell_type": "markdown",
      "source": [
        "## Batas"
      ],
      "metadata": {
        "id": "v-6MO0TxOJQi"
      }
    },
    {
      "cell_type": "code",
      "source": [
        "# Function to simulate and plot a single-qubit state\n",
        "def simulate_and_plot(circuit, qubit, title):\n",
        "    simulator = cirq.Simulator()\n",
        "    result = simulator.simulate(circuit)\n",
        "    state_vector = result.final_state_vector\n",
        "    probabilities = np.abs(state_vector)**2\n",
        "\n",
        "    plt.bar(['|0⟩', '|1⟩'], probabilities, color=['blue', 'red'])\n",
        "    plt.title(title)\n",
        "    plt.ylabel('Probability')\n",
        "    plt.ylim(0, 1)\n",
        "    plt.show()"
      ],
      "metadata": {
        "id": "OS43i19dNiPs"
      },
      "execution_count": 74,
      "outputs": []
    },
    {
      "cell_type": "code",
      "source": [
        "# Function to simulate and plot a multi-qubit state\n",
        "def simulate_and_plot_multi(circuit, qubits, title):\n",
        "    simulator = cirq.Simulator()\n",
        "    result = simulator.simulate(circuit)\n",
        "    state_vector = result.final_state_vector\n",
        "    probabilities = np.abs(state_vector)**2\n",
        "\n",
        "    # Generate labels for the state vectors, accounting for the number of qubits\n",
        "    num_qubits = len(qubits)\n",
        "    labels = ['|' + ''.join(str(i) for i in x) + '⟩' for x in np.ndindex(*([2] * num_qubits))]\n",
        "    plt.bar(labels, probabilities, color=['blue', 'red', 'green', 'purple'])\n",
        "    plt.title(title)\n",
        "    plt.ylabel('Probability')\n",
        "    plt.ylim(0, 1)\n",
        "    plt.show()"
      ],
      "metadata": {
        "id": "-Ci91buzOPED"
      },
      "execution_count": 75,
      "outputs": []
    },
    {
      "cell_type": "code",
      "source": [
        "# Define qubits\n",
        "qubit = cirq.GridQubit(0, 0)\n",
        "control_qubit = cirq.GridQubit(0, 0)\n",
        "target_qubit = cirq.GridQubit(0, 1)\n",
        "third_qubit = cirq.GridQubit(0, 2)"
      ],
      "metadata": {
        "id": "CfS2-whMOSCT"
      },
      "execution_count": 76,
      "outputs": []
    },
    {
      "cell_type": "code",
      "source": [
        "# Example 1: Hadamard Gate\n",
        "circuit_h = cirq.Circuit(cirq.H(qubit))\n",
        "simulate_and_plot(circuit_h, qubit, 'Hadamard Gate')"
      ],
      "metadata": {
        "colab": {
          "base_uri": "https://localhost:8080/",
          "height": 453
        },
        "id": "Iekw_LdOOUkq",
        "outputId": "532d2034-3643-45a2-e2f8-b146a4dcabd0"
      },
      "execution_count": 77,
      "outputs": [
        {
          "output_type": "display_data",
          "data": {
            "text/plain": [
              "<Figure size 640x480 with 1 Axes>"
            ],
            "image/png": "[encoded data removed]"
          },
          "metadata": {}
        }
      ]
    },
    {
      "cell_type": "code",
      "source": [
        "# Use SVGCircuit to draw the circuit\n",
        "svg_circuit = cirq.contrib.svg.SVGCircuit(circuit_h)\n",
        "svg_string = svg_circuit._repr_svg_()\n",
        "display(SVG(svg_string))"
      ],
      "metadata": {
        "colab": {
          "base_uri": "https://localhost:8080/",
          "height": 71
        },
        "id": "REAq6ohfPjx6",
        "outputId": "6d962ed0-eed7-44bc-b5a1-0ae4169a06f6"
      },
      "execution_count": 90,
      "outputs": [
        {
          "output_type": "display_data",
          "data": {
            "text/plain": [
              "<IPython.core.display.SVG object>"
            ],
            "image/svg+xml": "<svg xmlns=\"http://www.w3.org/2000/svg\" width=\"169.517734375\" height=\"50.0\"><line x1=\"34.7588671875\" x2=\"139.517734375\" y1=\"25.0\" y2=\"25.0\" stroke=\"#1967d2\" stroke-width=\"1\"/><rect x=\"10.0\" y=\"5.0\" width=\"49.517734375\" height=\"40\" stroke=\"black\" fill=\"white\" stroke-width=\"0\"/><text x=\"34.7588671875\" y=\"25.0\" dominant-baseline=\"middle\" text-anchor=\"middle\" font-size=\"14px\" font-family=\"sans\\-serif:style=normal:variant=normal:weight=normal:stretch=normal:size=10.0\">(0, 0): </text><rect x=\"79.517734375\" y=\"5.0\" width=\"40\" height=\"40\" stroke=\"black\" fill=\"white\" stroke-width=\"1\"/><text x=\"99.517734375\" y=\"25.0\" dominant-baseline=\"middle\" text-anchor=\"middle\" font-size=\"18px\" font-family=\"sans\\-serif:style=normal:variant=normal:weight=normal:stretch=normal:size=10.0\">H</text></svg>"
          },
          "metadata": {}
        }
      ]
    },
    {
      "cell_type": "code",
      "source": [
        "# Example 2: Pauli-Z Gate\n",
        "circuit_z = cirq.Circuit(cirq.Z(qubit))\n",
        "simulate_and_plot(circuit_z, qubit, 'Pauli-Z Gate')"
      ],
      "metadata": {
        "colab": {
          "base_uri": "https://localhost:8080/",
          "height": 453
        },
        "id": "xkRmzgCEOWsB",
        "outputId": "e9332966-aad7-465b-b4c5-ad730a1fdf96"
      },
      "execution_count": 78,
      "outputs": [
        {
          "output_type": "display_data",
          "data": {
            "text/plain": [
              "<Figure size 640x480 with 1 Axes>"
            ],
            "image/png": "[encoded data removed]"
          },
          "metadata": {}
        }
      ]
    },
    {
      "cell_type": "code",
      "source": [
        "# Use SVGCircuit to draw the circuit\n",
        "svg_circuit = cirq.contrib.svg.SVGCircuit(circuit_z)\n",
        "svg_string = svg_circuit._repr_svg_()\n",
        "display(SVG(svg_string))"
      ],
      "metadata": {
        "colab": {
          "base_uri": "https://localhost:8080/",
          "height": 71
        },
        "id": "k_tpUgRSPoPX",
        "outputId": "64fed1fb-072e-4a94-d68e-7aabe6af9de9"
      },
      "execution_count": 91,
      "outputs": [
        {
          "output_type": "display_data",
          "data": {
            "text/plain": [
              "<IPython.core.display.SVG object>"
            ],
            "image/svg+xml": "<svg xmlns=\"http://www.w3.org/2000/svg\" width=\"169.517734375\" height=\"50.0\"><line x1=\"34.7588671875\" x2=\"139.517734375\" y1=\"25.0\" y2=\"25.0\" stroke=\"#1967d2\" stroke-width=\"1\"/><rect x=\"10.0\" y=\"5.0\" width=\"49.517734375\" height=\"40\" stroke=\"black\" fill=\"white\" stroke-width=\"0\"/><text x=\"34.7588671875\" y=\"25.0\" dominant-baseline=\"middle\" text-anchor=\"middle\" font-size=\"14px\" font-family=\"sans\\-serif:style=normal:variant=normal:weight=normal:stretch=normal:size=10.0\">(0, 0): </text><rect x=\"79.517734375\" y=\"5.0\" width=\"40\" height=\"40\" stroke=\"black\" fill=\"white\" stroke-width=\"1\"/><text x=\"99.517734375\" y=\"25.0\" dominant-baseline=\"middle\" text-anchor=\"middle\" font-size=\"18px\" font-family=\"sans\\-serif:style=normal:variant=normal:weight=normal:stretch=normal:size=10.0\">Z</text></svg>"
          },
          "metadata": {}
        }
      ]
    },
    {
      "cell_type": "code",
      "source": [
        "# Example 3: CNOT Gate\n",
        "circuit_cnot = cirq.Circuit(\n",
        "    cirq.H(control_qubit),  # Put control qubit into superposition\n",
        "    cirq.CNOT(control_qubit, target_qubit)\n",
        ")\n",
        "simulate_and_plot_multi(circuit_cnot, [control_qubit, target_qubit], 'CNOT Gate')"
      ],
      "metadata": {
        "colab": {
          "base_uri": "https://localhost:8080/",
          "height": 453
        },
        "id": "ZBtjdSfEOZvh",
        "outputId": "a92687f5-f393-4dbc-9fe1-e76113b2543d"
      },
      "execution_count": 79,
      "outputs": [
        {
          "output_type": "display_data",
          "data": {
            "text/plain": [
              "<Figure size 640x480 with 1 Axes>"
            ],
            "image/png": "[encoded data removed]"
          },
          "metadata": {}
        }
      ]
    },
    {
      "cell_type": "code",
      "source": [
        "# Use SVGCircuit to draw the circuit\n",
        "svg_circuit = cirq.contrib.svg.SVGCircuit(circuit_cnot)\n",
        "svg_string = svg_circuit._repr_svg_()\n",
        "display(SVG(svg_string))"
      ],
      "metadata": {
        "colab": {
          "base_uri": "https://localhost:8080/",
          "height": 121
        },
        "id": "GS5kQFJqPsM9",
        "outputId": "823ec575-44cf-4d67-f477-5ede4ba3e713"
      },
      "execution_count": 92,
      "outputs": [
        {
          "output_type": "display_data",
          "data": {
            "text/plain": [
              "<IPython.core.display.SVG object>"
            ],
            "image/svg+xml": "<svg xmlns=\"http://www.w3.org/2000/svg\" width=\"229.517734375\" height=\"100.0\"><line x1=\"34.7588671875\" x2=\"199.517734375\" y1=\"25.0\" y2=\"25.0\" stroke=\"#1967d2\" stroke-width=\"1\"/><line x1=\"34.7588671875\" x2=\"199.517734375\" y1=\"75.0\" y2=\"75.0\" stroke=\"#1967d2\" stroke-width=\"1\"/><line x1=\"159.517734375\" x2=\"159.517734375\" y1=\"25.0\" y2=\"75.0\" stroke=\"black\" stroke-width=\"3\"/><rect x=\"10.0\" y=\"5.0\" width=\"49.517734375\" height=\"40\" stroke=\"black\" fill=\"white\" stroke-width=\"0\"/><text x=\"34.7588671875\" y=\"25.0\" dominant-baseline=\"middle\" text-anchor=\"middle\" font-size=\"14px\" font-family=\"sans\\-serif:style=normal:variant=normal:weight=normal:stretch=normal:size=10.0\">(0, 0): </text><rect x=\"10.0\" y=\"55.0\" width=\"49.517734375\" height=\"40\" stroke=\"black\" fill=\"white\" stroke-width=\"0\"/><text x=\"34.7588671875\" y=\"75.0\" dominant-baseline=\"middle\" text-anchor=\"middle\" font-size=\"14px\" font-family=\"sans\\-serif:style=normal:variant=normal:weight=normal:stretch=normal:size=10.0\">(0, 1): </text><rect x=\"79.517734375\" y=\"5.0\" width=\"40\" height=\"40\" stroke=\"black\" fill=\"white\" stroke-width=\"1\"/><text x=\"99.517734375\" y=\"25.0\" dominant-baseline=\"middle\" text-anchor=\"middle\" font-size=\"18px\" font-family=\"sans\\-serif:style=normal:variant=normal:weight=normal:stretch=normal:size=10.0\">H</text><circle cx=\"159.517734375\" cy=\"25.0\" r=\"10.0\"/><rect x=\"139.517734375\" y=\"55.0\" width=\"40\" height=\"40\" stroke=\"black\" fill=\"white\" stroke-width=\"1\"/><text x=\"159.517734375\" y=\"75.0\" dominant-baseline=\"middle\" text-anchor=\"middle\" font-size=\"18px\" font-family=\"sans\\-serif:style=normal:variant=normal:weight=normal:stretch=normal:size=10.0\">X</text></svg>"
          },
          "metadata": {}
        }
      ]
    },
    {
      "cell_type": "code",
      "source": [
        "# Example 4: S Gate\n",
        "circuit_s = cirq.Circuit(cirq.S(qubit))\n",
        "simulate_and_plot(circuit_s, qubit, 'S Gate')"
      ],
      "metadata": {
        "colab": {
          "base_uri": "https://localhost:8080/",
          "height": 453
        },
        "id": "WjY3jotGOcdH",
        "outputId": "1a08e1f4-e71d-4627-8280-0a24c67d8895"
      },
      "execution_count": 80,
      "outputs": [
        {
          "output_type": "display_data",
          "data": {
            "text/plain": [
              "<Figure size 640x480 with 1 Axes>"
            ],
            "image/png": "[encoded data removed]"
          },
          "metadata": {}
        }
      ]
    },
    {
      "cell_type": "code",
      "source": [
        "# Use SVGCircuit to draw the circuit\n",
        "svg_circuit = cirq.contrib.svg.SVGCircuit(circuit_s)\n",
        "svg_string = svg_circuit._repr_svg_()\n",
        "display(SVG(svg_string))"
      ],
      "metadata": {
        "colab": {
          "base_uri": "https://localhost:8080/",
          "height": 71
        },
        "id": "DPPto9tWPvOv",
        "outputId": "a839f23e-5672-4193-bf60-3d46e7a51995"
      },
      "execution_count": 93,
      "outputs": [
        {
          "output_type": "display_data",
          "data": {
            "text/plain": [
              "<IPython.core.display.SVG object>"
            ],
            "image/svg+xml": "<svg xmlns=\"http://www.w3.org/2000/svg\" width=\"169.517734375\" height=\"50.0\"><line x1=\"34.7588671875\" x2=\"139.517734375\" y1=\"25.0\" y2=\"25.0\" stroke=\"#1967d2\" stroke-width=\"1\"/><rect x=\"10.0\" y=\"5.0\" width=\"49.517734375\" height=\"40\" stroke=\"black\" fill=\"white\" stroke-width=\"0\"/><text x=\"34.7588671875\" y=\"25.0\" dominant-baseline=\"middle\" text-anchor=\"middle\" font-size=\"14px\" font-family=\"sans\\-serif:style=normal:variant=normal:weight=normal:stretch=normal:size=10.0\">(0, 0): </text><rect x=\"79.517734375\" y=\"5.0\" width=\"40\" height=\"40\" stroke=\"black\" fill=\"white\" stroke-width=\"1\"/><text x=\"99.517734375\" y=\"25.0\" dominant-baseline=\"middle\" text-anchor=\"middle\" font-size=\"18px\" font-family=\"sans\\-serif:style=normal:variant=normal:weight=normal:stretch=normal:size=10.0\">S</text></svg>"
          },
          "metadata": {}
        }
      ]
    },
    {
      "cell_type": "code",
      "source": [
        "# Example 5: T Gate\n",
        "circuit_t = cirq.Circuit(cirq.T(qubit))\n",
        "simulate_and_plot(circuit_t, qubit, 'T Gate')"
      ],
      "metadata": {
        "colab": {
          "base_uri": "https://localhost:8080/",
          "height": 453
        },
        "id": "88Gfj56ZOe6V",
        "outputId": "4d8cef21-2163-466a-c572-721c82fef24a"
      },
      "execution_count": 81,
      "outputs": [
        {
          "output_type": "display_data",
          "data": {
            "text/plain": [
              "<Figure size 640x480 with 1 Axes>"
            ],
            "image/png": "[encoded data removed]"
          },
          "metadata": {}
        }
      ]
    },
    {
      "cell_type": "code",
      "source": [
        "# Use SVGCircuit to draw the circuit\n",
        "svg_circuit = cirq.contrib.svg.SVGCircuit(circuit_t)\n",
        "svg_string = svg_circuit._repr_svg_()\n",
        "display(SVG(svg_string))"
      ],
      "metadata": {
        "colab": {
          "base_uri": "https://localhost:8080/",
          "height": 71
        },
        "id": "ql45SbPTPz6-",
        "outputId": "f0d596d2-28d5-4766-8851-ecf9e912421e"
      },
      "execution_count": 94,
      "outputs": [
        {
          "output_type": "display_data",
          "data": {
            "text/plain": [
              "<IPython.core.display.SVG object>"
            ],
            "image/svg+xml": "<svg xmlns=\"http://www.w3.org/2000/svg\" width=\"169.517734375\" height=\"50.0\"><line x1=\"34.7588671875\" x2=\"139.517734375\" y1=\"25.0\" y2=\"25.0\" stroke=\"#1967d2\" stroke-width=\"1\"/><rect x=\"10.0\" y=\"5.0\" width=\"49.517734375\" height=\"40\" stroke=\"black\" fill=\"white\" stroke-width=\"0\"/><text x=\"34.7588671875\" y=\"25.0\" dominant-baseline=\"middle\" text-anchor=\"middle\" font-size=\"14px\" font-family=\"sans\\-serif:style=normal:variant=normal:weight=normal:stretch=normal:size=10.0\">(0, 0): </text><rect x=\"79.517734375\" y=\"5.0\" width=\"40\" height=\"40\" stroke=\"black\" fill=\"white\" stroke-width=\"1\"/><text x=\"99.517734375\" y=\"25.0\" dominant-baseline=\"middle\" text-anchor=\"middle\" font-size=\"18px\" font-family=\"sans\\-serif:style=normal:variant=normal:weight=normal:stretch=normal:size=10.0\">T</text></svg>"
          },
          "metadata": {}
        }
      ]
    },
    {
      "cell_type": "code",
      "source": [
        "# Example 6: Toffoli Gate (CCNOT)\n",
        "circuit_toffoli = cirq.Circuit(\n",
        "    cirq.H(control_qubit),  # Put control qubit into superposition\n",
        "    cirq.H(third_qubit),  # Put third qubit into superposition\n",
        "    cirq.TOFFOLI(control_qubit, target_qubit, third_qubit)\n",
        ")\n",
        "simulate_and_plot_multi(circuit_toffoli, [control_qubit, target_qubit, third_qubit], 'Toffoli Gate')"
      ],
      "metadata": {
        "colab": {
          "base_uri": "https://localhost:8080/",
          "height": 453
        },
        "id": "r7UwvksFOhX5",
        "outputId": "47d5ff1e-cc0b-45bf-cd6c-bc77f60bf884"
      },
      "execution_count": 82,
      "outputs": [
        {
          "output_type": "display_data",
          "data": {
            "text/plain": [
              "<Figure size 640x480 with 1 Axes>"
            ],
            "image/png": "[encoded data removed]"
          },
          "metadata": {}
        }
      ]
    },
    {
      "cell_type": "code",
      "source": [
        "# Use SVGCircuit to draw the circuit\n",
        "svg_circuit = cirq.contrib.svg.SVGCircuit(circuit_toffoli)\n",
        "svg_string = svg_circuit._repr_svg_()\n",
        "display(SVG(svg_string))"
      ],
      "metadata": {
        "colab": {
          "base_uri": "https://localhost:8080/",
          "height": 171
        },
        "id": "mCrOvCnVP3fN",
        "outputId": "8363c981-8540-4e12-82e8-cd1b6ea69f2c"
      },
      "execution_count": 95,
      "outputs": [
        {
          "output_type": "display_data",
          "data": {
            "text/plain": [
              "<IPython.core.display.SVG object>"
            ],
            "image/svg+xml": "<svg xmlns=\"http://www.w3.org/2000/svg\" width=\"229.517734375\" height=\"150.0\"><line x1=\"34.7588671875\" x2=\"199.517734375\" y1=\"25.0\" y2=\"25.0\" stroke=\"#1967d2\" stroke-width=\"1\"/><line x1=\"34.7588671875\" x2=\"199.517734375\" y1=\"75.0\" y2=\"75.0\" stroke=\"#1967d2\" stroke-width=\"1\"/><line x1=\"34.7588671875\" x2=\"199.517734375\" y1=\"125.0\" y2=\"125.0\" stroke=\"#1967d2\" stroke-width=\"1\"/><line x1=\"159.517734375\" x2=\"159.517734375\" y1=\"25.0\" y2=\"125.0\" stroke=\"black\" stroke-width=\"3\"/><rect x=\"10.0\" y=\"5.0\" width=\"49.517734375\" height=\"40\" stroke=\"black\" fill=\"white\" stroke-width=\"0\"/><text x=\"34.7588671875\" y=\"25.0\" dominant-baseline=\"middle\" text-anchor=\"middle\" font-size=\"14px\" font-family=\"sans\\-serif:style=normal:variant=normal:weight=normal:stretch=normal:size=10.0\">(0, 0): </text><rect x=\"10.0\" y=\"55.0\" width=\"49.517734375\" height=\"40\" stroke=\"black\" fill=\"white\" stroke-width=\"0\"/><text x=\"34.7588671875\" y=\"75.0\" dominant-baseline=\"middle\" text-anchor=\"middle\" font-size=\"14px\" font-family=\"sans\\-serif:style=normal:variant=normal:weight=normal:stretch=normal:size=10.0\">(0, 1): </text><rect x=\"10.0\" y=\"105.0\" width=\"49.517734375\" height=\"40\" stroke=\"black\" fill=\"white\" stroke-width=\"0\"/><text x=\"34.7588671875\" y=\"125.0\" dominant-baseline=\"middle\" text-anchor=\"middle\" font-size=\"14px\" font-family=\"sans\\-serif:style=normal:variant=normal:weight=normal:stretch=normal:size=10.0\">(0, 2): </text><rect x=\"79.517734375\" y=\"5.0\" width=\"40\" height=\"40\" stroke=\"black\" fill=\"white\" stroke-width=\"1\"/><text x=\"99.517734375\" y=\"25.0\" dominant-baseline=\"middle\" text-anchor=\"middle\" font-size=\"18px\" font-family=\"sans\\-serif:style=normal:variant=normal:weight=normal:stretch=normal:size=10.0\">H</text><rect x=\"79.517734375\" y=\"105.0\" width=\"40\" height=\"40\" stroke=\"black\" fill=\"white\" stroke-width=\"1\"/><text x=\"99.517734375\" y=\"125.0\" dominant-baseline=\"middle\" text-anchor=\"middle\" font-size=\"18px\" font-family=\"sans\\-serif:style=normal:variant=normal:weight=normal:stretch=normal:size=10.0\">H</text><circle cx=\"159.517734375\" cy=\"25.0\" r=\"10.0\"/><circle cx=\"159.517734375\" cy=\"75.0\" r=\"10.0\"/><rect x=\"139.517734375\" y=\"105.0\" width=\"40\" height=\"40\" stroke=\"black\" fill=\"white\" stroke-width=\"1\"/><text x=\"159.517734375\" y=\"125.0\" dominant-baseline=\"middle\" text-anchor=\"middle\" font-size=\"18px\" font-family=\"sans\\-serif:style=normal:variant=normal:weight=normal:stretch=normal:size=10.0\">X</text></svg>"
          },
          "metadata": {}
        }
      ]
    },
    {
      "source": [
        "# Define qubits\n",
        "q0, q1, q2 = cirq.LineQubit.range(3)\n",
        "\n",
        "# Create a circuit\n",
        "circuit_toffoli2 = cirq.Circuit()\n",
        "\n",
        "# Apply the Toffoli gate\n",
        "circuit_toffoli2.append(cirq.TOFFOLI(q0, q1, q2))\n",
        "\n",
        "# Print the circuit\n",
        "print(circuit_toffoli2)"
      ],
      "cell_type": "code",
      "metadata": {
        "colab": {
          "base_uri": "https://localhost:8080/"
        },
        "id": "_u32xa8CQrZw",
        "outputId": "67b8737d-4dd3-41ac-e9b9-668a0440a2f7"
      },
      "execution_count": 98,
      "outputs": [
        {
          "output_type": "stream",
          "name": "stdout",
          "text": [
            "0: ───@───\n",
            "      │\n",
            "1: ───@───\n",
            "      │\n",
            "2: ───X───\n"
          ]
        }
      ]
    },
    {
      "cell_type": "code",
      "source": [
        "# Use SVGCircuit to draw the circuit\n",
        "svg_circuit = cirq.contrib.svg.SVGCircuit(circuit_toffoli2)\n",
        "svg_string = svg_circuit._repr_svg_()\n",
        "display(SVG(svg_string))"
      ],
      "metadata": {
        "colab": {
          "base_uri": "https://localhost:8080/",
          "height": 171
        },
        "id": "Sg_ry1iNRdpU",
        "outputId": "69815dba-cc17-4d7e-ae7e-d563dfeb80d6"
      },
      "execution_count": 99,
      "outputs": [
        {
          "output_type": "display_data",
          "data": {
            "text/plain": [
              "<IPython.core.display.SVG object>"
            ],
            "image/svg+xml": "<svg xmlns=\"http://www.w3.org/2000/svg\" width=\"160.0\" height=\"150.0\"><line x1=\"30.0\" x2=\"130.0\" y1=\"25.0\" y2=\"25.0\" stroke=\"#1967d2\" stroke-width=\"1\"/><line x1=\"30.0\" x2=\"130.0\" y1=\"75.0\" y2=\"75.0\" stroke=\"#1967d2\" stroke-width=\"1\"/><line x1=\"30.0\" x2=\"130.0\" y1=\"125.0\" y2=\"125.0\" stroke=\"#1967d2\" stroke-width=\"1\"/><line x1=\"90.0\" x2=\"90.0\" y1=\"25.0\" y2=\"125.0\" stroke=\"black\" stroke-width=\"3\"/><rect x=\"10.0\" y=\"5.0\" width=\"40\" height=\"40\" stroke=\"black\" fill=\"white\" stroke-width=\"0\"/><text x=\"30.0\" y=\"25.0\" dominant-baseline=\"middle\" text-anchor=\"middle\" font-size=\"14px\" font-family=\"sans\\-serif:style=normal:variant=normal:weight=normal:stretch=normal:size=10.0\">0: </text><rect x=\"10.0\" y=\"55.0\" width=\"40\" height=\"40\" stroke=\"black\" fill=\"white\" stroke-width=\"0\"/><text x=\"30.0\" y=\"75.0\" dominant-baseline=\"middle\" text-anchor=\"middle\" font-size=\"14px\" font-family=\"sans\\-serif:style=normal:variant=normal:weight=normal:stretch=normal:size=10.0\">1: </text><rect x=\"10.0\" y=\"105.0\" width=\"40\" height=\"40\" stroke=\"black\" fill=\"white\" stroke-width=\"0\"/><text x=\"30.0\" y=\"125.0\" dominant-baseline=\"middle\" text-anchor=\"middle\" font-size=\"14px\" font-family=\"sans\\-serif:style=normal:variant=normal:weight=normal:stretch=normal:size=10.0\">2: </text><circle cx=\"90.0\" cy=\"25.0\" r=\"10.0\"/><circle cx=\"90.0\" cy=\"75.0\" r=\"10.0\"/><rect x=\"70.0\" y=\"105.0\" width=\"40\" height=\"40\" stroke=\"black\" fill=\"white\" stroke-width=\"1\"/><text x=\"90.0\" y=\"125.0\" dominant-baseline=\"middle\" text-anchor=\"middle\" font-size=\"18px\" font-family=\"sans\\-serif:style=normal:variant=normal:weight=normal:stretch=normal:size=10.0\">X</text></svg>"
          },
          "metadata": {}
        }
      ]
    },
    {
      "cell_type": "markdown",
      "source": [
        "Konstruksi Gerbang Toffoli melalui beberapa gerbang dasar"
      ],
      "metadata": {
        "id": "fMnxVAncTdAZ"
      }
    },
    {
      "source": [
        "# Define qubits\n",
        "q0, q1, q2 = cirq.LineQubit.range(3)\n",
        "\n",
        "# Create a circuit\n",
        "circuit = cirq.Circuit()\n",
        "\n",
        "# Construct the Toffoli gate using H, CNOT, T, Tdg\n",
        "circuit.append(cirq.H(q2))\n",
        "circuit.append(cirq.CNOT(q1, q2))\n",
        "circuit.append(cirq.T(q2)**-1)\n",
        "circuit.append(cirq.CNOT(q0, q2))\n",
        "circuit.append(cirq.T(q2))\n",
        "circuit.append(cirq.CNOT(q1, q2))\n",
        "circuit.append(cirq.T(q2)**-1)\n",
        "circuit.append(cirq.CNOT(q0, q2))\n",
        "circuit.append(cirq.T(q1))\n",
        "circuit.append(cirq.T(q2))\n",
        "circuit.append(cirq.CNOT(q0, q1))\n",
        "circuit.append(cirq.H(q2))\n",
        "circuit.append(cirq.T(q0))\n",
        "circuit.append(cirq.T(q1)**-1)\n",
        "circuit.append(cirq.CNOT(q0, q1))\n",
        "\n",
        "# Print the circuit\n",
        "print(circuit)"
      ],
      "cell_type": "code",
      "metadata": {
        "colab": {
          "base_uri": "https://localhost:8080/"
        },
        "id": "6SYiaFblSHBa",
        "outputId": "13d702bb-668e-4148-b7ec-8d06cdfc90af"
      },
      "execution_count": 100,
      "outputs": [
        {
          "output_type": "stream",
          "name": "stdout",
          "text": [
            "0: ──────────────────@──────────────────@───@───T──────@───\n",
            "                     │                  │   │          │\n",
            "1: ───────@──────────┼───────@───T──────┼───X───T^-1───X───\n",
            "          │          │       │          │\n",
            "2: ───H───X───T^-1───X───T───X───T^-1───X───T───H──────────\n"
          ]
        }
      ]
    },
    {
      "cell_type": "code",
      "source": [
        "# Use SVGCircuit to draw the circuit\n",
        "svg_circuit = cirq.contrib.svg.SVGCircuit(circuit)\n",
        "svg_string = svg_circuit._repr_svg_()\n",
        "display(SVG(svg_string))"
      ],
      "metadata": {
        "colab": {
          "base_uri": "https://localhost:8080/",
          "height": 171
        },
        "id": "1ohdXrQoTpw9",
        "outputId": "22398aff-7a94-4cfa-cf13-a868b750a974"
      },
      "execution_count": 110,
      "outputs": [
        {
          "output_type": "display_data",
          "data": {
            "text/plain": [
              "<IPython.core.display.SVG object>"
            ],
            "image/svg+xml": "<svg xmlns=\"http://www.w3.org/2000/svg\" width=\"768.970703125\" height=\"150.0\"><line x1=\"30.0\" x2=\"738.970703125\" y1=\"25.0\" y2=\"25.0\" stroke=\"#1967d2\" stroke-width=\"1\"/><line x1=\"30.0\" x2=\"738.970703125\" y1=\"75.0\" y2=\"75.0\" stroke=\"#1967d2\" stroke-width=\"1\"/><line x1=\"30.0\" x2=\"738.970703125\" y1=\"125.0\" y2=\"125.0\" stroke=\"#1967d2\" stroke-width=\"1\"/><line x1=\"150.0\" x2=\"150.0\" y1=\"75.0\" y2=\"125.0\" stroke=\"black\" stroke-width=\"3\"/><line x1=\"272.990234375\" x2=\"272.990234375\" y1=\"25.0\" y2=\"125.0\" stroke=\"black\" stroke-width=\"3\"/><line x1=\"392.990234375\" x2=\"392.990234375\" y1=\"75.0\" y2=\"125.0\" stroke=\"black\" stroke-width=\"3\"/><line x1=\"515.98046875\" x2=\"515.98046875\" y1=\"25.0\" y2=\"125.0\" stroke=\"black\" stroke-width=\"3\"/><line x1=\"575.98046875\" x2=\"575.98046875\" y1=\"25.0\" y2=\"75.0\" stroke=\"black\" stroke-width=\"3\"/><line x1=\"698.970703125\" x2=\"698.970703125\" y1=\"25.0\" y2=\"75.0\" stroke=\"black\" stroke-width=\"3\"/><rect x=\"10.0\" y=\"5.0\" width=\"40\" height=\"40\" stroke=\"black\" fill=\"white\" stroke-width=\"0\"/><text x=\"30.0\" y=\"25.0\" dominant-baseline=\"middle\" text-anchor=\"middle\" font-size=\"14px\" font-family=\"sans\\-serif:style=normal:variant=normal:weight=normal:stretch=normal:size=10.0\">0: </text><rect x=\"10.0\" y=\"55.0\" width=\"40\" height=\"40\" stroke=\"black\" fill=\"white\" stroke-width=\"0\"/><text x=\"30.0\" y=\"75.0\" dominant-baseline=\"middle\" text-anchor=\"middle\" font-size=\"14px\" font-family=\"sans\\-serif:style=normal:variant=normal:weight=normal:stretch=normal:size=10.0\">1: </text><rect x=\"10.0\" y=\"105.0\" width=\"40\" height=\"40\" stroke=\"black\" fill=\"white\" stroke-width=\"0\"/><text x=\"30.0\" y=\"125.0\" dominant-baseline=\"middle\" text-anchor=\"middle\" font-size=\"14px\" font-family=\"sans\\-serif:style=normal:variant=normal:weight=normal:stretch=normal:size=10.0\">2: </text><rect x=\"70.0\" y=\"105.0\" width=\"40\" height=\"40\" stroke=\"black\" fill=\"white\" stroke-width=\"1\"/><text x=\"90.0\" y=\"125.0\" dominant-baseline=\"middle\" text-anchor=\"middle\" font-size=\"18px\" font-family=\"sans\\-serif:style=normal:variant=normal:weight=normal:stretch=normal:size=10.0\">H</text><circle cx=\"150.0\" cy=\"75.0\" r=\"10.0\"/><rect x=\"130.0\" y=\"105.0\" width=\"40\" height=\"40\" stroke=\"black\" fill=\"white\" stroke-width=\"1\"/><text x=\"150.0\" y=\"125.0\" dominant-baseline=\"middle\" text-anchor=\"middle\" font-size=\"18px\" font-family=\"sans\\-serif:style=normal:variant=normal:weight=normal:stretch=normal:size=10.0\">X</text><rect x=\"190.0\" y=\"105.0\" width=\"42.990234375\" height=\"40\" stroke=\"black\" fill=\"white\" stroke-width=\"1\"/><text x=\"211.4951171875\" y=\"125.0\" dominant-baseline=\"middle\" text-anchor=\"middle\" font-size=\"14px\" font-family=\"sans\\-serif:style=normal:variant=normal:weight=normal:stretch=normal:size=10.0\">T^-1</text><circle cx=\"272.990234375\" cy=\"25.0\" r=\"10.0\"/><rect x=\"252.990234375\" y=\"105.0\" width=\"40\" height=\"40\" stroke=\"black\" fill=\"white\" stroke-width=\"1\"/><text x=\"272.990234375\" y=\"125.0\" dominant-baseline=\"middle\" text-anchor=\"middle\" font-size=\"18px\" font-family=\"sans\\-serif:style=normal:variant=normal:weight=normal:stretch=normal:size=10.0\">X</text><rect x=\"312.990234375\" y=\"105.0\" width=\"40\" height=\"40\" stroke=\"black\" fill=\"white\" stroke-width=\"1\"/><text x=\"332.990234375\" y=\"125.0\" dominant-baseline=\"middle\" text-anchor=\"middle\" font-size=\"18px\" font-family=\"sans\\-serif:style=normal:variant=normal:weight=normal:stretch=normal:size=10.0\">T</text><circle cx=\"392.990234375\" cy=\"75.0\" r=\"10.0\"/><rect x=\"372.990234375\" y=\"105.0\" width=\"40\" height=\"40\" stroke=\"black\" fill=\"white\" stroke-width=\"1\"/><text x=\"392.990234375\" y=\"125.0\" dominant-baseline=\"middle\" text-anchor=\"middle\" font-size=\"18px\" font-family=\"sans\\-serif:style=normal:variant=normal:weight=normal:stretch=normal:size=10.0\">X</text><rect x=\"432.990234375\" y=\"105.0\" width=\"42.990234375\" height=\"40\" stroke=\"black\" fill=\"white\" stroke-width=\"1\"/><text x=\"454.4853515625\" y=\"125.0\" dominant-baseline=\"middle\" text-anchor=\"middle\" font-size=\"14px\" font-family=\"sans\\-serif:style=normal:variant=normal:weight=normal:stretch=normal:size=10.0\">T^-1</text><rect x=\"432.990234375\" y=\"55.0\" width=\"42.990234375\" height=\"40\" stroke=\"black\" fill=\"white\" stroke-width=\"1\"/><text x=\"454.4853515625\" y=\"75.0\" dominant-baseline=\"middle\" text-anchor=\"middle\" font-size=\"18px\" font-family=\"sans\\-serif:style=normal:variant=normal:weight=normal:stretch=normal:size=10.0\">T</text><circle cx=\"515.98046875\" cy=\"25.0\" r=\"10.0\"/><rect x=\"495.98046875\" y=\"105.0\" width=\"40\" height=\"40\" stroke=\"black\" fill=\"white\" stroke-width=\"1\"/><text x=\"515.98046875\" y=\"125.0\" dominant-baseline=\"middle\" text-anchor=\"middle\" font-size=\"18px\" font-family=\"sans\\-serif:style=normal:variant=normal:weight=normal:stretch=normal:size=10.0\">X</text><rect x=\"555.98046875\" y=\"105.0\" width=\"40\" height=\"40\" stroke=\"black\" fill=\"white\" stroke-width=\"1\"/><text x=\"575.98046875\" y=\"125.0\" dominant-baseline=\"middle\" text-anchor=\"middle\" font-size=\"18px\" font-family=\"sans\\-serif:style=normal:variant=normal:weight=normal:stretch=normal:size=10.0\">T</text><circle cx=\"575.98046875\" cy=\"25.0\" r=\"10.0\"/><rect x=\"555.98046875\" y=\"55.0\" width=\"40\" height=\"40\" stroke=\"black\" fill=\"white\" stroke-width=\"1\"/><text x=\"575.98046875\" y=\"75.0\" dominant-baseline=\"middle\" text-anchor=\"middle\" font-size=\"18px\" font-family=\"sans\\-serif:style=normal:variant=normal:weight=normal:stretch=normal:size=10.0\">X</text><rect x=\"615.98046875\" y=\"105.0\" width=\"42.990234375\" height=\"40\" stroke=\"black\" fill=\"white\" stroke-width=\"1\"/><text x=\"637.4755859375\" y=\"125.0\" dominant-baseline=\"middle\" text-anchor=\"middle\" font-size=\"18px\" font-family=\"sans\\-serif:style=normal:variant=normal:weight=normal:stretch=normal:size=10.0\">H</text><rect x=\"615.98046875\" y=\"5.0\" width=\"42.990234375\" height=\"40\" stroke=\"black\" fill=\"white\" stroke-width=\"1\"/><text x=\"637.4755859375\" y=\"25.0\" dominant-baseline=\"middle\" text-anchor=\"middle\" font-size=\"18px\" font-family=\"sans\\-serif:style=normal:variant=normal:weight=normal:stretch=normal:size=10.0\">T</text><rect x=\"615.98046875\" y=\"55.0\" width=\"42.990234375\" height=\"40\" stroke=\"black\" fill=\"white\" stroke-width=\"1\"/><text x=\"637.4755859375\" y=\"75.0\" dominant-baseline=\"middle\" text-anchor=\"middle\" font-size=\"14px\" font-family=\"sans\\-serif:style=normal:variant=normal:weight=normal:stretch=normal:size=10.0\">T^-1</text><circle cx=\"698.970703125\" cy=\"25.0\" r=\"10.0\"/><rect x=\"678.970703125\" y=\"55.0\" width=\"40\" height=\"40\" stroke=\"black\" fill=\"white\" stroke-width=\"1\"/><text x=\"698.970703125\" y=\"75.0\" dominant-baseline=\"middle\" text-anchor=\"middle\" font-size=\"18px\" font-family=\"sans\\-serif:style=normal:variant=normal:weight=normal:stretch=normal:size=10.0\">X</text></svg>"
          },
          "metadata": {}
        }
      ]
    },
    {
      "cell_type": "markdown",
      "source": [
        "Evaluasi kebenaran model berdasarkan matriks unitary yang dihasilkan oleh sirkuit apakah sama dengan matriks unitary gerbang toffoli yang asli tanpa konstruksi dari gerbang-gerbang lain.\n",
        "Dalam hal ini perlu diingat bahwa setiap\n",
        "\n",
        "1.   Sirkuit dapat direpresentasikan oleh matriks unitary karena dia adalah sistem kuantum di ruang hilbert, dan bahwa setiap matriks unitary atau sirkuit menyatakan perilaku hidup state-state kuantum di ruang hilbert.\n",
        "2.   Setiap matriks unitary adalah memiliki inverse dan transpose, yang berarti setiap matriks unitary adalah reversible.\n",
        "Ini berarti setiap sirkuit kuantum semestinya reversible. Tetapi sayangnya di dunia nyata terdapat eksistensi noise dan mudahnya terjadi dekoherensi (kolapsnya state kuantum atau kolapsnya proses entangled)\n",
        "\n",
        "\n",
        "\n",
        "\n",
        "\n"
      ],
      "metadata": {
        "id": "oSmHhXWoT0z9"
      }
    },
    {
      "source": [
        "# Calculate the unitary matrix of the constructed Toffoli\n",
        "constructed_matrix = cirq.unitary(circuit)"
      ],
      "cell_type": "code",
      "metadata": {
        "id": "B9GHbMzaSgEm"
      },
      "execution_count": 102,
      "outputs": []
    },
    {
      "cell_type": "code",
      "source": [
        "constructed_matrix"
      ],
      "metadata": {
        "colab": {
          "base_uri": "https://localhost:8080/"
        },
        "id": "ubIy1ddLSs5E",
        "outputId": "d3199c97-769a-4819-b5c8-71d482208ac8"
      },
      "execution_count": 103,
      "outputs": [
        {
          "output_type": "execute_result",
          "data": {
            "text/plain": [
              "array([[ 1.00000000e+00+1.62588398e-17j,  0.00000000e+00-1.62588398e-17j,\n",
              "         0.00000000e+00+0.00000000e+00j,  0.00000000e+00+0.00000000e+00j,\n",
              "         0.00000000e+00+0.00000000e+00j,  0.00000000e+00+0.00000000e+00j,\n",
              "         0.00000000e+00+0.00000000e+00j,  0.00000000e+00+0.00000000e+00j],\n",
              "       [ 0.00000000e+00-1.62588398e-17j,  1.00000000e+00+1.62588398e-17j,\n",
              "        -0.00000000e+00+0.00000000e+00j, -0.00000000e+00+0.00000000e+00j,\n",
              "        -0.00000000e+00+0.00000000e+00j, -0.00000000e+00+0.00000000e+00j,\n",
              "        -0.00000000e+00+0.00000000e+00j, -0.00000000e+00+0.00000000e+00j],\n",
              "       [ 0.00000000e+00+0.00000000e+00j,  0.00000000e+00+0.00000000e+00j,\n",
              "         1.00000000e+00+1.21168839e-16j,  0.00000000e+00+0.00000000e+00j,\n",
              "         0.00000000e+00+0.00000000e+00j,  0.00000000e+00+0.00000000e+00j,\n",
              "         0.00000000e+00+0.00000000e+00j,  0.00000000e+00+0.00000000e+00j],\n",
              "       [ 0.00000000e+00+0.00000000e+00j,  0.00000000e+00+0.00000000e+00j,\n",
              "         0.00000000e+00+0.00000000e+00j,  1.00000000e+00+1.21168839e-16j,\n",
              "         0.00000000e+00+0.00000000e+00j,  0.00000000e+00+0.00000000e+00j,\n",
              "         0.00000000e+00+0.00000000e+00j,  0.00000000e+00+0.00000000e+00j],\n",
              "       [ 0.00000000e+00+0.00000000e+00j,  0.00000000e+00+0.00000000e+00j,\n",
              "         0.00000000e+00+0.00000000e+00j,  0.00000000e+00+0.00000000e+00j,\n",
              "         1.00000000e+00+4.26642159e-17j, -1.12649183e-33-3.25176795e-17j,\n",
              "         0.00000000e+00+0.00000000e+00j,  0.00000000e+00+0.00000000e+00j],\n",
              "       [ 0.00000000e+00+0.00000000e+00j,  0.00000000e+00+0.00000000e+00j,\n",
              "         0.00000000e+00+0.00000000e+00j,  0.00000000e+00+0.00000000e+00j,\n",
              "        -1.12649183e-33-3.25176795e-17j,  1.00000000e+00+4.26642159e-17j,\n",
              "         0.00000000e+00+0.00000000e+00j,  0.00000000e+00+0.00000000e+00j],\n",
              "       [ 0.00000000e+00+0.00000000e+00j,  0.00000000e+00+0.00000000e+00j,\n",
              "         0.00000000e+00+0.00000000e+00j,  0.00000000e+00+0.00000000e+00j,\n",
              "         0.00000000e+00+0.00000000e+00j,  0.00000000e+00+0.00000000e+00j,\n",
              "         1.51785443e-32+2.22044605e-16j,  1.00000000e+00-1.21168839e-16j],\n",
              "       [ 0.00000000e+00+0.00000000e+00j,  0.00000000e+00+0.00000000e+00j,\n",
              "         0.00000000e+00+0.00000000e+00j,  0.00000000e+00+0.00000000e+00j,\n",
              "         0.00000000e+00+0.00000000e+00j,  0.00000000e+00+0.00000000e+00j,\n",
              "         1.00000000e+00-1.21168839e-16j,  1.51785443e-32+2.22044605e-16j]])"
            ]
          },
          "metadata": {},
          "execution_count": 103
        }
      ]
    },
    {
      "cell_type": "code",
      "source": [
        "# Create a standard Toffoli gate\n",
        "standard_toffoli = cirq.TOFFOLI(q0, q1, q2)"
      ],
      "metadata": {
        "id": "14o-OiCRSlKd"
      },
      "execution_count": 104,
      "outputs": []
    },
    {
      "cell_type": "code",
      "source": [
        "standard_toffoli"
      ],
      "metadata": {
        "colab": {
          "base_uri": "https://localhost:8080/"
        },
        "id": "3rrZx847SyUO",
        "outputId": "e0ffcd72-3ce0-482b-f01a-c06ad7a0015a"
      },
      "execution_count": 105,
      "outputs": [
        {
          "output_type": "execute_result",
          "data": {
            "text/plain": [
              "cirq.TOFFOLI(cirq.LineQubit(0), cirq.LineQubit(1), cirq.LineQubit(2))"
            ]
          },
          "metadata": {},
          "execution_count": 105
        }
      ]
    },
    {
      "cell_type": "code",
      "source": [
        "# Create a circuit with the Toffoli gate\n",
        "circuit_with_toffoli = cirq.Circuit(standard_toffoli)\n",
        "\n",
        "# Use SVGCircuit to draw the circuit\n",
        "svg_circuit = cirq.contrib.svg.SVGCircuit(circuit_with_toffoli)\n",
        "svg_string = svg_circuit._repr_svg_()\n",
        "display(SVG(svg_string))"
      ],
      "metadata": {
        "colab": {
          "base_uri": "https://localhost:8080/",
          "height": 171
        },
        "id": "AgtNKKhyS6Ud",
        "outputId": "42c14370-9573-4234-a592-81f72ec8dece"
      },
      "execution_count": 107,
      "outputs": [
        {
          "output_type": "display_data",
          "data": {
            "text/plain": [
              "<IPython.core.display.SVG object>"
            ],
            "image/svg+xml": "<svg xmlns=\"http://www.w3.org/2000/svg\" width=\"160.0\" height=\"150.0\"><line x1=\"30.0\" x2=\"130.0\" y1=\"25.0\" y2=\"25.0\" stroke=\"#1967d2\" stroke-width=\"1\"/><line x1=\"30.0\" x2=\"130.0\" y1=\"75.0\" y2=\"75.0\" stroke=\"#1967d2\" stroke-width=\"1\"/><line x1=\"30.0\" x2=\"130.0\" y1=\"125.0\" y2=\"125.0\" stroke=\"#1967d2\" stroke-width=\"1\"/><line x1=\"90.0\" x2=\"90.0\" y1=\"25.0\" y2=\"125.0\" stroke=\"black\" stroke-width=\"3\"/><rect x=\"10.0\" y=\"5.0\" width=\"40\" height=\"40\" stroke=\"black\" fill=\"white\" stroke-width=\"0\"/><text x=\"30.0\" y=\"25.0\" dominant-baseline=\"middle\" text-anchor=\"middle\" font-size=\"14px\" font-family=\"sans\\-serif:style=normal:variant=normal:weight=normal:stretch=normal:size=10.0\">0: </text><rect x=\"10.0\" y=\"55.0\" width=\"40\" height=\"40\" stroke=\"black\" fill=\"white\" stroke-width=\"0\"/><text x=\"30.0\" y=\"75.0\" dominant-baseline=\"middle\" text-anchor=\"middle\" font-size=\"14px\" font-family=\"sans\\-serif:style=normal:variant=normal:weight=normal:stretch=normal:size=10.0\">1: </text><rect x=\"10.0\" y=\"105.0\" width=\"40\" height=\"40\" stroke=\"black\" fill=\"white\" stroke-width=\"0\"/><text x=\"30.0\" y=\"125.0\" dominant-baseline=\"middle\" text-anchor=\"middle\" font-size=\"14px\" font-family=\"sans\\-serif:style=normal:variant=normal:weight=normal:stretch=normal:size=10.0\">2: </text><circle cx=\"90.0\" cy=\"25.0\" r=\"10.0\"/><circle cx=\"90.0\" cy=\"75.0\" r=\"10.0\"/><rect x=\"70.0\" y=\"105.0\" width=\"40\" height=\"40\" stroke=\"black\" fill=\"white\" stroke-width=\"1\"/><text x=\"90.0\" y=\"125.0\" dominant-baseline=\"middle\" text-anchor=\"middle\" font-size=\"18px\" font-family=\"sans\\-serif:style=normal:variant=normal:weight=normal:stretch=normal:size=10.0\">X</text></svg>"
          },
          "metadata": {}
        }
      ]
    },
    {
      "cell_type": "code",
      "source": [
        "# Calculate the unitary matrix of the standard Toffoli\n",
        "standard_matrix = cirq.unitary(standard_toffoli)"
      ],
      "metadata": {
        "id": "zBeZ3wdYSmtJ"
      },
      "execution_count": 108,
      "outputs": []
    },
    {
      "cell_type": "code",
      "source": [
        "# Compare the matrices (allowing for a small tolerance due to numerical precision)\n",
        "np.allclose(constructed_matrix, standard_matrix, atol=1e-8)"
      ],
      "metadata": {
        "colab": {
          "base_uri": "https://localhost:8080/"
        },
        "id": "akDFyT3oSoaz",
        "outputId": "cee723a2-795e-43c5-9600-38e04b358c26"
      },
      "execution_count": 109,
      "outputs": [
        {
          "output_type": "execute_result",
          "data": {
            "text/plain": [
              "True"
            ]
          },
          "metadata": {},
          "execution_count": 109
        }
      ]
    },
    {
      "cell_type": "markdown",
      "source": [
        "Lanjut eksplorasi jenis gerbang lain"
      ],
      "metadata": {
        "id": "BYbGE6JQWyP_"
      }
    },
    {
      "cell_type": "code",
      "source": [
        "# Example 7: Fredkin Gate (CSWAP)\n",
        "circuit_fredkin = cirq.Circuit(\n",
        "    cirq.H(control_qubit),  # Put control qubit into superposition\n",
        "    cirq.H(target_qubit),  # Put target qubit into superposition\n",
        "    cirq.FREDKIN(control_qubit, target_qubit, third_qubit)\n",
        ")\n",
        "simulate_and_plot_multi(circuit_fredkin, [control_qubit, target_qubit, third_qubit], 'Fredkin Gate')"
      ],
      "metadata": {
        "colab": {
          "base_uri": "https://localhost:8080/",
          "height": 453
        },
        "id": "8SQ9D6GeOjuu",
        "outputId": "0698f0d2-afaf-4251-be5d-03f74277cd0f"
      },
      "execution_count": 83,
      "outputs": [
        {
          "output_type": "display_data",
          "data": {
            "text/plain": [
              "<Figure size 640x480 with 1 Axes>"
            ],
            "image/png": "[encoded data removed]"
          },
          "metadata": {}
        }
      ]
    },
    {
      "cell_type": "code",
      "source": [
        "# Use SVGCircuit to draw the circuit\n",
        "svg_circuit = cirq.contrib.svg.SVGCircuit(circuit_fredkin)\n",
        "svg_string = svg_circuit._repr_svg_()\n",
        "display(SVG(svg_string))"
      ],
      "metadata": {
        "colab": {
          "base_uri": "https://localhost:8080/",
          "height": 171
        },
        "id": "MeKDQmWWW5cz",
        "outputId": "6a0704c5-143d-408c-f0fe-ca1aded61dc9"
      },
      "execution_count": 111,
      "outputs": [
        {
          "output_type": "display_data",
          "data": {
            "text/plain": [
              "<IPython.core.display.SVG object>"
            ],
            "image/svg+xml": "<svg xmlns=\"http://www.w3.org/2000/svg\" width=\"229.517734375\" height=\"150.0\"><line x1=\"34.7588671875\" x2=\"199.517734375\" y1=\"25.0\" y2=\"25.0\" stroke=\"#1967d2\" stroke-width=\"1\"/><line x1=\"34.7588671875\" x2=\"199.517734375\" y1=\"75.0\" y2=\"75.0\" stroke=\"#1967d2\" stroke-width=\"1\"/><line x1=\"34.7588671875\" x2=\"199.517734375\" y1=\"125.0\" y2=\"125.0\" stroke=\"#1967d2\" stroke-width=\"1\"/><line x1=\"159.517734375\" x2=\"159.517734375\" y1=\"25.0\" y2=\"125.0\" stroke=\"black\" stroke-width=\"3\"/><rect x=\"10.0\" y=\"5.0\" width=\"49.517734375\" height=\"40\" stroke=\"black\" fill=\"white\" stroke-width=\"0\"/><text x=\"34.7588671875\" y=\"25.0\" dominant-baseline=\"middle\" text-anchor=\"middle\" font-size=\"14px\" font-family=\"sans\\-serif:style=normal:variant=normal:weight=normal:stretch=normal:size=10.0\">(0, 0): </text><rect x=\"10.0\" y=\"55.0\" width=\"49.517734375\" height=\"40\" stroke=\"black\" fill=\"white\" stroke-width=\"0\"/><text x=\"34.7588671875\" y=\"75.0\" dominant-baseline=\"middle\" text-anchor=\"middle\" font-size=\"14px\" font-family=\"sans\\-serif:style=normal:variant=normal:weight=normal:stretch=normal:size=10.0\">(0, 1): </text><rect x=\"10.0\" y=\"105.0\" width=\"49.517734375\" height=\"40\" stroke=\"black\" fill=\"white\" stroke-width=\"0\"/><text x=\"34.7588671875\" y=\"125.0\" dominant-baseline=\"middle\" text-anchor=\"middle\" font-size=\"14px\" font-family=\"sans\\-serif:style=normal:variant=normal:weight=normal:stretch=normal:size=10.0\">(0, 2): </text><rect x=\"79.517734375\" y=\"5.0\" width=\"40\" height=\"40\" stroke=\"black\" fill=\"white\" stroke-width=\"1\"/><text x=\"99.517734375\" y=\"25.0\" dominant-baseline=\"middle\" text-anchor=\"middle\" font-size=\"18px\" font-family=\"sans\\-serif:style=normal:variant=normal:weight=normal:stretch=normal:size=10.0\">H</text><rect x=\"79.517734375\" y=\"55.0\" width=\"40\" height=\"40\" stroke=\"black\" fill=\"white\" stroke-width=\"1\"/><text x=\"99.517734375\" y=\"75.0\" dominant-baseline=\"middle\" text-anchor=\"middle\" font-size=\"18px\" font-family=\"sans\\-serif:style=normal:variant=normal:weight=normal:stretch=normal:size=10.0\">H</text><circle cx=\"159.517734375\" cy=\"25.0\" r=\"10.0\"/><text x=\"159.517734375\" y=\"78.0\" dominant-baseline=\"middle\" text-anchor=\"middle\" font-size=\"40px\" font-family=\"sans\\-serif:style=normal:variant=normal:weight=normal:stretch=normal:size=10.0\">×</text><text x=\"159.517734375\" y=\"128.0\" dominant-baseline=\"middle\" text-anchor=\"middle\" font-size=\"40px\" font-family=\"sans\\-serif:style=normal:variant=normal:weight=normal:stretch=normal:size=10.0\">×</text></svg>"
          },
          "metadata": {}
        }
      ]
    },
    {
      "cell_type": "code",
      "source": [
        "# Example 8: SWAP Gate\n",
        "circuit_swap = cirq.Circuit(cirq.SWAP(control_qubit, target_qubit))\n",
        "simulate_and_plot_multi(circuit_swap, [control_qubit, target_qubit], 'SWAP Gate')"
      ],
      "metadata": {
        "colab": {
          "base_uri": "https://localhost:8080/",
          "height": 453
        },
        "id": "uCTH_eQxOnWK",
        "outputId": "90d08589-efb0-4933-e1a6-9a442af04ad7"
      },
      "execution_count": 84,
      "outputs": [
        {
          "output_type": "display_data",
          "data": {
            "text/plain": [
              "<Figure size 640x480 with 1 Axes>"
            ],
            "image/png": "[encoded data removed]"
          },
          "metadata": {}
        }
      ]
    },
    {
      "cell_type": "code",
      "source": [
        "# Use SVGCircuit to draw the circuit\n",
        "svg_circuit = cirq.contrib.svg.SVGCircuit(circuit_swap)\n",
        "svg_string = svg_circuit._repr_svg_()\n",
        "display(SVG(svg_string))"
      ],
      "metadata": {
        "colab": {
          "base_uri": "https://localhost:8080/",
          "height": 121
        },
        "id": "zuRU44lAXRA2",
        "outputId": "ce578aed-7bf9-4291-c5f1-e2d6698ad6f3"
      },
      "execution_count": 112,
      "outputs": [
        {
          "output_type": "display_data",
          "data": {
            "text/plain": [
              "<IPython.core.display.SVG object>"
            ],
            "image/svg+xml": "<svg xmlns=\"http://www.w3.org/2000/svg\" width=\"169.517734375\" height=\"100.0\"><line x1=\"34.7588671875\" x2=\"139.517734375\" y1=\"25.0\" y2=\"25.0\" stroke=\"#1967d2\" stroke-width=\"1\"/><line x1=\"34.7588671875\" x2=\"139.517734375\" y1=\"75.0\" y2=\"75.0\" stroke=\"#1967d2\" stroke-width=\"1\"/><line x1=\"99.517734375\" x2=\"99.517734375\" y1=\"25.0\" y2=\"75.0\" stroke=\"black\" stroke-width=\"3\"/><rect x=\"10.0\" y=\"5.0\" width=\"49.517734375\" height=\"40\" stroke=\"black\" fill=\"white\" stroke-width=\"0\"/><text x=\"34.7588671875\" y=\"25.0\" dominant-baseline=\"middle\" text-anchor=\"middle\" font-size=\"14px\" font-family=\"sans\\-serif:style=normal:variant=normal:weight=normal:stretch=normal:size=10.0\">(0, 0): </text><rect x=\"10.0\" y=\"55.0\" width=\"49.517734375\" height=\"40\" stroke=\"black\" fill=\"white\" stroke-width=\"0\"/><text x=\"34.7588671875\" y=\"75.0\" dominant-baseline=\"middle\" text-anchor=\"middle\" font-size=\"14px\" font-family=\"sans\\-serif:style=normal:variant=normal:weight=normal:stretch=normal:size=10.0\">(0, 1): </text><text x=\"99.517734375\" y=\"28.0\" dominant-baseline=\"middle\" text-anchor=\"middle\" font-size=\"40px\" font-family=\"sans\\-serif:style=normal:variant=normal:weight=normal:stretch=normal:size=10.0\">×</text><text x=\"99.517734375\" y=\"78.0\" dominant-baseline=\"middle\" text-anchor=\"middle\" font-size=\"40px\" font-family=\"sans\\-serif:style=normal:variant=normal:weight=normal:stretch=normal:size=10.0\">×</text></svg>"
          },
          "metadata": {}
        }
      ]
    },
    {
      "cell_type": "code",
      "source": [
        "# Example 9: Rotation Gate (RX, RY, RZ)\n",
        "circuit_rx = cirq.Circuit(cirq.rx(np.pi / 4)(qubit))\n",
        "simulate_and_plot(circuit_rx, qubit, 'RX Gate')"
      ],
      "metadata": {
        "colab": {
          "base_uri": "https://localhost:8080/",
          "height": 453
        },
        "id": "eNauhNStOpkn",
        "outputId": "54d9564d-2f13-4fcd-a2a4-5b9ed0eda94c"
      },
      "execution_count": 87,
      "outputs": [
        {
          "output_type": "display_data",
          "data": {
            "text/plain": [
              "<Figure size 640x480 with 1 Axes>"
            ],
            "image/png": "[encoded data removed]"
          },
          "metadata": {}
        }
      ]
    },
    {
      "cell_type": "code",
      "source": [
        "# Use SVGCircuit to draw the circuit\n",
        "svg_circuit = cirq.contrib.svg.SVGCircuit(circuit_rx)\n",
        "svg_string = svg_circuit._repr_svg_()\n",
        "display(SVG(svg_string))"
      ],
      "metadata": {
        "colab": {
          "base_uri": "https://localhost:8080/",
          "height": 71
        },
        "id": "ATAzfuc9XeiJ",
        "outputId": "f2c64f7f-d26d-4f60-9dda-6d84e2c3d3e4"
      },
      "execution_count": 113,
      "outputs": [
        {
          "output_type": "display_data",
          "data": {
            "text/plain": [
              "<IPython.core.display.SVG object>"
            ],
            "image/svg+xml": "<svg xmlns=\"http://www.w3.org/2000/svg\" width=\"205.47824218750003\" height=\"50.0\"><line x1=\"34.7588671875\" x2=\"175.47824218750003\" y1=\"25.0\" y2=\"25.0\" stroke=\"#1967d2\" stroke-width=\"1\"/><rect x=\"10.0\" y=\"5.0\" width=\"49.517734375\" height=\"40\" stroke=\"black\" fill=\"white\" stroke-width=\"0\"/><text x=\"34.7588671875\" y=\"25.0\" dominant-baseline=\"middle\" text-anchor=\"middle\" font-size=\"14px\" font-family=\"sans\\-serif:style=normal:variant=normal:weight=normal:stretch=normal:size=10.0\">(0, 0): </text><rect x=\"79.517734375\" y=\"5.0\" width=\"75.96050781250001\" height=\"40\" stroke=\"black\" fill=\"white\" stroke-width=\"1\"/><text x=\"117.49798828125\" y=\"25.0\" dominant-baseline=\"middle\" text-anchor=\"middle\" font-size=\"14px\" font-family=\"sans\\-serif:style=normal:variant=normal:weight=normal:stretch=normal:size=10.0\">Rx(0.25π)</text></svg>"
          },
          "metadata": {}
        }
      ]
    },
    {
      "cell_type": "code",
      "source": [
        "circuit_ry = cirq.Circuit(cirq.ry(np.pi / 4)(qubit))\n",
        "simulate_and_plot(circuit_ry, qubit, 'RY Gate')"
      ],
      "metadata": {
        "colab": {
          "base_uri": "https://localhost:8080/",
          "height": 453
        },
        "id": "5u-01oiVPVLp",
        "outputId": "50cc0240-33f1-4286-b155-ed63847d5d5f"
      },
      "execution_count": 88,
      "outputs": [
        {
          "output_type": "display_data",
          "data": {
            "text/plain": [
              "<Figure size 640x480 with 1 Axes>"
            ],
            "image/png": "[encoded data removed]"
          },
          "metadata": {}
        }
      ]
    },
    {
      "cell_type": "code",
      "source": [
        "# Use SVGCircuit to draw the circuit\n",
        "svg_circuit = cirq.contrib.svg.SVGCircuit(circuit_ry)\n",
        "svg_string = svg_circuit._repr_svg_()\n",
        "display(SVG(svg_string))"
      ],
      "metadata": {
        "colab": {
          "base_uri": "https://localhost:8080/",
          "height": 71
        },
        "id": "gX-6vL3AXoIN",
        "outputId": "344133e6-1e2f-4ff5-adb2-d5f304ac253b"
      },
      "execution_count": 114,
      "outputs": [
        {
          "output_type": "display_data",
          "data": {
            "text/plain": [
              "<IPython.core.display.SVG object>"
            ],
            "image/svg+xml": "<svg xmlns=\"http://www.w3.org/2000/svg\" width=\"204.7082421875\" height=\"50.0\"><line x1=\"34.7588671875\" x2=\"174.7082421875\" y1=\"25.0\" y2=\"25.0\" stroke=\"#1967d2\" stroke-width=\"1\"/><rect x=\"10.0\" y=\"5.0\" width=\"49.517734375\" height=\"40\" stroke=\"black\" fill=\"white\" stroke-width=\"0\"/><text x=\"34.7588671875\" y=\"25.0\" dominant-baseline=\"middle\" text-anchor=\"middle\" font-size=\"14px\" font-family=\"sans\\-serif:style=normal:variant=normal:weight=normal:stretch=normal:size=10.0\">(0, 0): </text><rect x=\"79.517734375\" y=\"5.0\" width=\"75.1905078125\" height=\"40\" stroke=\"black\" fill=\"white\" stroke-width=\"1\"/><text x=\"117.11298828125001\" y=\"25.0\" dominant-baseline=\"middle\" text-anchor=\"middle\" font-size=\"14px\" font-family=\"sans\\-serif:style=normal:variant=normal:weight=normal:stretch=normal:size=10.0\">Ry(0.25π)</text></svg>"
          },
          "metadata": {}
        }
      ]
    },
    {
      "cell_type": "code",
      "source": [
        "circuit_rz = cirq.Circuit(cirq.rz(np.pi / 4)(qubit))\n",
        "simulate_and_plot(circuit_rz, qubit, 'RZ Gate')"
      ],
      "metadata": {
        "colab": {
          "base_uri": "https://localhost:8080/",
          "height": 453
        },
        "id": "lV3pOi8tPXAo",
        "outputId": "93b3b303-099e-48eb-a516-f2496a5c7062"
      },
      "execution_count": 89,
      "outputs": [
        {
          "output_type": "display_data",
          "data": {
            "text/plain": [
              "<Figure size 640x480 with 1 Axes>"
            ],
            "image/png": "[encoded data removed]"
          },
          "metadata": {}
        }
      ]
    },
    {
      "cell_type": "code",
      "source": [
        "# Use SVGCircuit to draw the circuit\n",
        "svg_circuit = cirq.contrib.svg.SVGCircuit(circuit_rz)\n",
        "svg_string = svg_circuit._repr_svg_()\n",
        "display(SVG(svg_string))"
      ],
      "metadata": {
        "colab": {
          "base_uri": "https://localhost:8080/",
          "height": 71
        },
        "id": "w9dULEbXXtGz",
        "outputId": "bc935132-527b-4b4d-9eac-a1e1e8a04955"
      },
      "execution_count": 115,
      "outputs": [
        {
          "output_type": "display_data",
          "data": {
            "text/plain": [
              "<IPython.core.display.SVG object>"
            ],
            "image/svg+xml": "<svg xmlns=\"http://www.w3.org/2000/svg\" width=\"204.54171875000003\" height=\"50.0\"><line x1=\"34.7588671875\" x2=\"174.54171875000003\" y1=\"25.0\" y2=\"25.0\" stroke=\"#1967d2\" stroke-width=\"1\"/><rect x=\"10.0\" y=\"5.0\" width=\"49.517734375\" height=\"40\" stroke=\"black\" fill=\"white\" stroke-width=\"0\"/><text x=\"34.7588671875\" y=\"25.0\" dominant-baseline=\"middle\" text-anchor=\"middle\" font-size=\"14px\" font-family=\"sans\\-serif:style=normal:variant=normal:weight=normal:stretch=normal:size=10.0\">(0, 0): </text><rect x=\"79.517734375\" y=\"5.0\" width=\"75.02398437500001\" height=\"40\" stroke=\"black\" fill=\"white\" stroke-width=\"1\"/><text x=\"117.0297265625\" y=\"25.0\" dominant-baseline=\"middle\" text-anchor=\"middle\" font-size=\"14px\" font-family=\"sans\\-serif:style=normal:variant=normal:weight=normal:stretch=normal:size=10.0\">Rz(0.25π)</text></svg>"
          },
          "metadata": {}
        }
      ]
    },
    {
      "cell_type": "code",
      "source": [
        "# Example 10: Multi-qubit Gates\n",
        "circuit_multi = cirq.Circuit(\n",
        "    cirq.H(control_qubit),\n",
        "    cirq.CNOT(control_qubit, target_qubit),\n",
        "    cirq.CNOT(target_qubit, third_qubit)\n",
        ")\n",
        "simulate_and_plot_multi(circuit_multi, [control_qubit, target_qubit, third_qubit], 'Multi-Qubit Gates')"
      ],
      "metadata": {
        "colab": {
          "base_uri": "https://localhost:8080/",
          "height": 453
        },
        "id": "fldNS-m_Oscv",
        "outputId": "30aa20c8-18bd-416c-e23f-2d85c9b73496"
      },
      "execution_count": 86,
      "outputs": [
        {
          "output_type": "display_data",
          "data": {
            "text/plain": [
              "<Figure size 640x480 with 1 Axes>"
            ],
            "image/png": "[encoded data removed]"
          },
          "metadata": {}
        }
      ]
    },
    {
      "cell_type": "code",
      "source": [
        "# Use SVGCircuit to draw the circuit\n",
        "svg_circuit = cirq.contrib.svg.SVGCircuit(circuit_multi)\n",
        "svg_string = svg_circuit._repr_svg_()\n",
        "display(SVG(svg_string))"
      ],
      "metadata": {
        "colab": {
          "base_uri": "https://localhost:8080/",
          "height": 171
        },
        "id": "KmkGZJtGXxzY",
        "outputId": "dc6aa714-1b0b-4c5e-9894-e0c8ee339ebf"
      },
      "execution_count": 116,
      "outputs": [
        {
          "output_type": "display_data",
          "data": {
            "text/plain": [
              "<IPython.core.display.SVG object>"
            ],
            "image/svg+xml": "<svg xmlns=\"http://www.w3.org/2000/svg\" width=\"289.51773437500003\" height=\"150.0\"><line x1=\"34.7588671875\" x2=\"259.51773437500003\" y1=\"25.0\" y2=\"25.0\" stroke=\"#1967d2\" stroke-width=\"1\"/><line x1=\"34.7588671875\" x2=\"259.51773437500003\" y1=\"75.0\" y2=\"75.0\" stroke=\"#1967d2\" stroke-width=\"1\"/><line x1=\"34.7588671875\" x2=\"259.51773437500003\" y1=\"125.0\" y2=\"125.0\" stroke=\"#1967d2\" stroke-width=\"1\"/><line x1=\"159.517734375\" x2=\"159.517734375\" y1=\"25.0\" y2=\"75.0\" stroke=\"black\" stroke-width=\"3\"/><line x1=\"219.517734375\" x2=\"219.517734375\" y1=\"75.0\" y2=\"125.0\" stroke=\"black\" stroke-width=\"3\"/><rect x=\"10.0\" y=\"5.0\" width=\"49.517734375\" height=\"40\" stroke=\"black\" fill=\"white\" stroke-width=\"0\"/><text x=\"34.7588671875\" y=\"25.0\" dominant-baseline=\"middle\" text-anchor=\"middle\" font-size=\"14px\" font-family=\"sans\\-serif:style=normal:variant=normal:weight=normal:stretch=normal:size=10.0\">(0, 0): </text><rect x=\"10.0\" y=\"55.0\" width=\"49.517734375\" height=\"40\" stroke=\"black\" fill=\"white\" stroke-width=\"0\"/><text x=\"34.7588671875\" y=\"75.0\" dominant-baseline=\"middle\" text-anchor=\"middle\" font-size=\"14px\" font-family=\"sans\\-serif:style=normal:variant=normal:weight=normal:stretch=normal:size=10.0\">(0, 1): </text><rect x=\"10.0\" y=\"105.0\" width=\"49.517734375\" height=\"40\" stroke=\"black\" fill=\"white\" stroke-width=\"0\"/><text x=\"34.7588671875\" y=\"125.0\" dominant-baseline=\"middle\" text-anchor=\"middle\" font-size=\"14px\" font-family=\"sans\\-serif:style=normal:variant=normal:weight=normal:stretch=normal:size=10.0\">(0, 2): </text><rect x=\"79.517734375\" y=\"5.0\" width=\"40\" height=\"40\" stroke=\"black\" fill=\"white\" stroke-width=\"1\"/><text x=\"99.517734375\" y=\"25.0\" dominant-baseline=\"middle\" text-anchor=\"middle\" font-size=\"18px\" font-family=\"sans\\-serif:style=normal:variant=normal:weight=normal:stretch=normal:size=10.0\">H</text><circle cx=\"159.517734375\" cy=\"25.0\" r=\"10.0\"/><rect x=\"139.517734375\" y=\"55.0\" width=\"40\" height=\"40\" stroke=\"black\" fill=\"white\" stroke-width=\"1\"/><text x=\"159.517734375\" y=\"75.0\" dominant-baseline=\"middle\" text-anchor=\"middle\" font-size=\"18px\" font-family=\"sans\\-serif:style=normal:variant=normal:weight=normal:stretch=normal:size=10.0\">X</text><circle cx=\"219.517734375\" cy=\"75.0\" r=\"10.0\"/><rect x=\"199.517734375\" y=\"105.0\" width=\"40\" height=\"40\" stroke=\"black\" fill=\"white\" stroke-width=\"1\"/><text x=\"219.517734375\" y=\"125.0\" dominant-baseline=\"middle\" text-anchor=\"middle\" font-size=\"18px\" font-family=\"sans\\-serif:style=normal:variant=normal:weight=normal:stretch=normal:size=10.0\">X</text></svg>"
          },
          "metadata": {}
        }
      ]
    }
  ]
}