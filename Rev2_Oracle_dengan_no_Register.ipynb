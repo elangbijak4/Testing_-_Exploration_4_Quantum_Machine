{
  "nbformat": 4,
  "nbformat_minor": 0,
  "metadata": {
    "colab": {
      "provenance": [],
      "authorship_tag": "ABX9TyNWAEh1yOwJ6ZiC5oFJjmEO",
      "include_colab_link": true
    },
    "kernelspec": {
      "name": "python3",
      "display_name": "Python 3"
    },
    "language_info": {
      "name": "python"
    }
  },
  "cells": [
    {
      "cell_type": "markdown",
      "metadata": {
        "id": "view-in-github",
        "colab_type": "text"
      },
      "source": [
        "<a href=\"https://colab.research.google.com/github/elangbijak4/Testing_-_Exploration_4_Quantum_Machine/blob/main/Rev2_Oracle_dengan_no_Register.ipynb\" target=\"_parent\"><img src=\"https://colab.research.google.com/assets/colab-badge.svg\" alt=\"Open In Colab\"/></a>"
      ]
    },
    {
      "cell_type": "code",
      "source": [
        "!pip install  cirq"
      ],
      "metadata": {
        "id": "vpgVwLnewI-C"
      },
      "execution_count": null,
      "outputs": []
    },
    {
      "cell_type": "code",
      "source": [
        "!pip install cirq --upgrade  # Upgrade Cirq to the latest version"
      ],
      "metadata": {
        "id": "fDHFxLSpy7vm"
      },
      "execution_count": null,
      "outputs": []
    },
    {
      "cell_type": "code",
      "source": [
        "import cirq\n",
        "import matplotlib.pyplot as plt"
      ],
      "metadata": {
        "id": "aQBVnNEizAG6"
      },
      "execution_count": 4,
      "outputs": []
    },
    {
      "cell_type": "code",
      "source": [
        "from cirq.contrib.svg import SVGCircuit  # Import the necessary module for drawing"
      ],
      "metadata": {
        "id": "JS3iPsse2i9V"
      },
      "execution_count": 11,
      "outputs": []
    },
    {
      "cell_type": "code",
      "source": [
        "from IPython.display import SVG, display  # Import display from IPython"
      ],
      "metadata": {
        "id": "XcQPH9uV3ZKx"
      },
      "execution_count": 16,
      "outputs": []
    },
    {
      "cell_type": "code",
      "source": [
        "def oracle_no_register_advanced(q, control_qubit):\n",
        "    \"\"\"\n",
        "    Oracle yang membalik nilai qubit jika control_qubit dalam keadaan |1>.\n",
        "    \"\"\"\n",
        "    yield cirq.CNOT(control_qubit, q)\n",
        "\n",
        "# Uji coba\n",
        "q = cirq.LineQubit(0)\n",
        "control_qubit = cirq.LineQubit(1)\n",
        "circuit_no_register_advanced = cirq.Circuit(oracle_no_register_advanced(q, control_qubit))\n",
        "print(circuit_no_register_advanced)\n",
        "#circuit_no_register_advanced.draw(figsize=(5, 3))\n",
        "#plt.show()"
      ],
      "metadata": {
        "colab": {
          "base_uri": "https://localhost:8080/"
        },
        "id": "eNtUJixl7stQ",
        "outputId": "7b3d6759-63e4-457f-993a-c3af50d0948b"
      },
      "execution_count": 31,
      "outputs": [
        {
          "output_type": "stream",
          "name": "stdout",
          "text": [
            "0: ───X───\n",
            "      │\n",
            "1: ───@───\n"
          ]
        }
      ]
    },
    {
      "cell_type": "code",
      "source": [
        "# Use SVGCircuit to draw the circuit\n",
        "svg_circuit = cirq.contrib.svg.SVGCircuit(circuit_no_register_advanced)\n",
        "\n",
        "# Get the SVG content as a string (using _repr_svg_)\n",
        "svg_string = svg_circuit._repr_svg_()\n",
        "\n",
        "# Display the SVG in the notebook\n",
        "display(SVG(svg_string))"
      ],
      "metadata": {
        "colab": {
          "base_uri": "https://localhost:8080/",
          "height": 121
        },
        "id": "e_OYl_qA73U1",
        "outputId": "f52b60ae-1b99-4e8f-c2c0-9f85a3d88351"
      },
      "execution_count": 32,
      "outputs": [
        {
          "output_type": "display_data",
          "data": {
            "text/plain": [
              "<IPython.core.display.SVG object>"
            ],
            "image/svg+xml": "<svg xmlns=\"http://www.w3.org/2000/svg\" width=\"160.0\" height=\"100.0\"><line x1=\"30.0\" x2=\"130.0\" y1=\"25.0\" y2=\"25.0\" stroke=\"#1967d2\" stroke-width=\"1\"/><line x1=\"30.0\" x2=\"130.0\" y1=\"75.0\" y2=\"75.0\" stroke=\"#1967d2\" stroke-width=\"1\"/><line x1=\"90.0\" x2=\"90.0\" y1=\"25.0\" y2=\"75.0\" stroke=\"black\" stroke-width=\"3\"/><rect x=\"10.0\" y=\"5.0\" width=\"40\" height=\"40\" stroke=\"black\" fill=\"white\" stroke-width=\"0\"/><text x=\"30.0\" y=\"25.0\" dominant-baseline=\"middle\" text-anchor=\"middle\" font-size=\"14px\" font-family=\"sans\\-serif:style=normal:variant=normal:weight=normal:stretch=normal:size=10.0\">0: </text><rect x=\"10.0\" y=\"55.0\" width=\"40\" height=\"40\" stroke=\"black\" fill=\"white\" stroke-width=\"0\"/><text x=\"30.0\" y=\"75.0\" dominant-baseline=\"middle\" text-anchor=\"middle\" font-size=\"14px\" font-family=\"sans\\-serif:style=normal:variant=normal:weight=normal:stretch=normal:size=10.0\">1: </text><circle cx=\"90.0\" cy=\"75.0\" r=\"10.0\"/><rect x=\"70.0\" y=\"5.0\" width=\"40\" height=\"40\" stroke=\"black\" fill=\"white\" stroke-width=\"1\"/><text x=\"90.0\" y=\"25.0\" dominant-baseline=\"middle\" text-anchor=\"middle\" font-size=\"18px\" font-family=\"sans\\-serif:style=normal:variant=normal:weight=normal:stretch=normal:size=10.0\">X</text></svg>"
          },
          "metadata": {}
        }
      ]
    }
  ]
}