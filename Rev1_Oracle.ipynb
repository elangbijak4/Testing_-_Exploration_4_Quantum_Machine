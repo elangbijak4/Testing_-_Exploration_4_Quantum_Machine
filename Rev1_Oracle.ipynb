{
  "nbformat": 4,
  "nbformat_minor": 0,
  "metadata": {
    "colab": {
      "provenance": [],
      "authorship_tag": "ABX9TyNdtakqEYSSEARTaE5x5p1Q",
      "include_colab_link": true
    },
    "kernelspec": {
      "name": "python3",
      "display_name": "Python 3"
    },
    "language_info": {
      "name": "python"
    }
  },
  "cells": [
    {
      "cell_type": "markdown",
      "metadata": {
        "id": "view-in-github",
        "colab_type": "text"
      },
      "source": [
        "<a href=\"https://colab.research.google.com/github/elangbijak4/Testing_-_Exploration_4_Quantum_Machine/blob/main/Rev1_Oracle.ipynb\" target=\"_parent\"><img src=\"https://colab.research.google.com/assets/colab-badge.svg\" alt=\"Open In Colab\"/></a>"
      ]
    },
    {
      "cell_type": "code",
      "source": [
        "!pip install  cirq"
      ],
      "metadata": {
        "id": "vpgVwLnewI-C"
      },
      "execution_count": null,
      "outputs": []
    },
    {
      "cell_type": "code",
      "source": [
        "!pip install cirq --upgrade  # Upgrade Cirq to the latest version"
      ],
      "metadata": {
        "id": "fDHFxLSpy7vm"
      },
      "execution_count": null,
      "outputs": []
    },
    {
      "cell_type": "code",
      "source": [
        "import cirq\n",
        "import matplotlib.pyplot as plt"
      ],
      "metadata": {
        "id": "aQBVnNEizAG6"
      },
      "execution_count": 4,
      "outputs": []
    },
    {
      "cell_type": "code",
      "source": [
        "# 1. Oracle dengan Register\n",
        "def oracle_register(qubits):\n",
        "    \"\"\"\n",
        "    Oracle sederhana yang menukar nilai qubit pertama dan terakhir dalam register.\n",
        "    \"\"\"\n",
        "    yield cirq.SWAP(qubits[0], qubits[-1])\n",
        "\n",
        "# 2. Oracle tanpa Register\n",
        "def oracle_no_register(q):\n",
        "    \"\"\"\n",
        "    Oracle sederhana yang membalik nilai qubit.\n",
        "    \"\"\"\n",
        "    yield cirq.X(q)\n",
        "\n",
        "# 3. Oracle dengan Measurement\n",
        "def oracle_measurement(qubits):\n",
        "    \"\"\"\n",
        "    Oracle yang mengukur nilai qubit pertama dan mengembalikan hasilnya.\n",
        "    \"\"\"\n",
        "    yield cirq.measure(qubits[0], key='measurement')\n",
        "\n",
        "# 4. Oracle tanpa Measurement\n",
        "def oracle_no_measurement(qubits):\n",
        "    \"\"\"\n",
        "    Oracle yang menukar nilai qubit pertama dan kedua tanpa pengukuran.\n",
        "    \"\"\"\n",
        "    yield cirq.SWAP(qubits[0], qubits[1])\n",
        "\n",
        "\n",
        "# Uji coba\n",
        "# Inisialisasi qubit\n",
        "qubits = cirq.LineQubit.range(3)\n",
        "\n",
        "# Buat circuit untuk setiap oracle\n",
        "circuit_register = cirq.Circuit(oracle_register(qubits))\n",
        "circuit_no_register = cirq.Circuit(oracle_no_register(qubits[0]))\n",
        "circuit_measurement = cirq.Circuit(oracle_measurement(qubits))\n",
        "circuit_no_measurement = cirq.Circuit(oracle_no_measurement(qubits))\n",
        "\n",
        "# Simulasi dan cetak hasil\n",
        "simulator = cirq.Simulator()\n",
        "\n",
        "# Oracle dengan Register\n",
        "print(\"Oracle dengan Register:\")\n",
        "print(circuit_register)\n",
        "#circuit_register.draw(figsize=(5, 3))  # Menampilkan gambar sirkuit\n",
        "plt.show()\n",
        "\n",
        "result_register = simulator.simulate(circuit_register)\n",
        "print(result_register)\n",
        "\n",
        "# Oracle tanpa Register\n",
        "print(\"\\nOracle tanpa Register:\")\n",
        "print(circuit_no_register)\n",
        "#circuit_no_register.draw(figsize=(5, 3))  # Menampilkan gambar sirkuit\n",
        "plt.show()\n",
        "\n",
        "result_no_register = simulator.simulate(circuit_no_register)\n",
        "print(result_no_register)\n",
        "\n",
        "# Oracle dengan Measurement\n",
        "print(\"\\nOracle dengan Measurement:\")\n",
        "print(circuit_measurement)\n",
        "#circuit_measurement.draw(figsize=(5, 3))  # Menampilkan gambar sirkuit\n",
        "plt.show()\n",
        "\n",
        "result_measurement = simulator.simulate(circuit_measurement)\n",
        "print(result_measurement)\n",
        "\n",
        "# Simulate the circuit with repetitions to get measurement results\n",
        "samples = simulator.run(circuit_measurement, repetitions=1000) # Run the simulation with 1000 repetitions\n",
        "\n",
        "# Get the histogram of measurement results\n",
        "histogram = samples.histogram(key='measurement')\n",
        "\n",
        "plt.bar(histogram.keys(), histogram.values())\n",
        "plt.xlabel(\"Measurement Result\")\n",
        "plt.ylabel(\"Probability\")\n",
        "plt.title(\"Probabilitas Measurement\")\n",
        "plt.show()\n",
        "\n",
        "# Oracle tanpa Measurement\n",
        "print(\"\\nOracle tanpa Measurement:\")\n",
        "print(circuit_no_measurement)\n",
        "#circuit_no_measurement.draw(figsize=(5, 3))  # Menampilkan gambar sirkuit\n",
        "plt.show()\n",
        "\n",
        "result_no_measurement = simulator.simulate(circuit_no_measurement)\n",
        "print(result_no_measurement)"
      ],
      "metadata": {
        "colab": {
          "base_uri": "https://localhost:8080/",
          "height": 1000
        },
        "id": "lPKEKkuUyd35",
        "outputId": "7e9b7350-9248-4f04-a2a6-fc623c359142"
      },
      "execution_count": 8,
      "outputs": [
        {
          "output_type": "stream",
          "name": "stdout",
          "text": [
            "Oracle dengan Register:\n",
            "0: ───×───\n",
            "      │\n",
            "2: ───×───\n",
            "measurements: (no measurements)\n",
            "\n",
            "qubits: (cirq.LineQubit(0),)\n",
            "output vector: |0⟩\n",
            "\n",
            "qubits: (cirq.LineQubit(2),)\n",
            "output vector: |0⟩\n",
            "\n",
            "phase:\n",
            "output vector: |⟩\n",
            "\n",
            "Oracle tanpa Register:\n",
            "0: ───X───\n",
            "measurements: (no measurements)\n",
            "\n",
            "qubits: (cirq.LineQubit(0),)\n",
            "output vector: |1⟩\n",
            "\n",
            "phase:\n",
            "output vector: |⟩\n",
            "\n",
            "Oracle dengan Measurement:\n",
            "0: ───M('measurement')───\n",
            "measurements: measurement=0\n",
            "\n",
            "qubits: (cirq.LineQubit(0),)\n",
            "output vector: |0⟩\n",
            "\n",
            "phase:\n",
            "output vector: |⟩\n"
          ]
        },
        {
          "output_type": "display_data",
          "data": {
            "text/plain": [
              "<Figure size 640x480 with 1 Axes>"
            ],
            "image/png": "[encoded data removed]"
          },
          "metadata": {}
        },
        {
          "output_type": "stream",
          "name": "stdout",
          "text": [
            "\n",
            "Oracle tanpa Measurement:\n",
            "0: ───×───\n",
            "      │\n",
            "1: ───×───\n",
            "measurements: (no measurements)\n",
            "\n",
            "qubits: (cirq.LineQubit(0),)\n",
            "output vector: |0⟩\n",
            "\n",
            "qubits: (cirq.LineQubit(1),)\n",
            "output vector: |0⟩\n",
            "\n",
            "phase:\n",
            "output vector: |⟩\n"
          ]
        }
      ]
    }
  ]
}